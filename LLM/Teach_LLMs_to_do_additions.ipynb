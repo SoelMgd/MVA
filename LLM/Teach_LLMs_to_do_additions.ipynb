{
  "cells": [
    {
      "cell_type": "markdown",
      "id": "80517dbc",
      "metadata": {
        "id": "80517dbc"
      },
      "source": [
        "# Teach an LLM to do additions\n",
        "\n",
        "Student: Soël Megdoud\n"
      ]
    },
    {
      "cell_type": "markdown",
      "id": "0aaca18f",
      "metadata": {
        "id": "0aaca18f"
      },
      "source": [
        "The goal of this project is to teach an LLM to do additions, playing only with two parts:\n",
        "* the tokenizer\n",
        "* the positional embedding\n",
        "\n",
        "Both the model and the dataset are fixed.\n",
        "\n",
        "You are allowed to tune the hyperparameters, but this is not the main goal. Depending on the quality of your tokenizer and positional embedding, you may change the number of bits. The initial value of 3 is very small."
      ]
    },
    {
      "cell_type": "code",
      "execution_count": 60,
      "id": "ae993bb9",
      "metadata": {
        "id": "ae993bb9"
      },
      "outputs": [],
      "source": [
        "import torch\n",
        "from torch import nn\n",
        "from torch.nn import functional as F\n",
        "\n",
        "import random\n",
        "import math\n",
        "import re\n",
        "import time"
      ]
    },
    {
      "cell_type": "code",
      "execution_count": 61,
      "id": "OzGh9ahKF17h",
      "metadata": {
        "id": "OzGh9ahKF17h"
      },
      "outputs": [],
      "source": [
        "number_bits = 3\n",
        "\n",
        "dataset_size = 64_000\n",
        "train_proportion = 0.9\n",
        "\n",
        "log_interval = 200\n",
        "batch_size = 64\n",
        "epochs = 4\n",
        "learning_rate = 8e-4"
      ]
    },
    {
      "cell_type": "markdown",
      "id": "6c054bed",
      "metadata": {
        "id": "6c054bed"
      },
      "source": [
        "## Step 1: Construct a tokenizer"
      ]
    },
    {
      "cell_type": "code",
      "execution_count": 63,
      "id": "t6aC9uNeIR6C",
      "metadata": {
        "id": "t6aC9uNeIR6C"
      },
      "outputs": [],
      "source": [
        "pad_token=\"[PAD]\"\n",
        "eos_token=\"[EOS]\""
      ]
    },
    {
      "cell_type": "markdown",
      "id": "BMvT0B-MGBnY",
      "metadata": {
        "id": "BMvT0B-MGBnY"
      },
      "source": [
        "### Baseline: character-level tokenizer"
      ]
    },
    {
      "cell_type": "code",
      "execution_count": 64,
      "id": "g2QiF-otFur3",
      "metadata": {
        "id": "g2QiF-otFur3"
      },
      "outputs": [],
      "source": [
        "class character_level_tokenizer:\n",
        "    \"\"\"\n",
        "    character-level\n",
        "    \"\"\"\n",
        "    def __init__(self):\n",
        "        self.vocab = [str(x) for x in range(10)] + [\"+\", \"=\"] + [pad_token, eos_token]\n",
        "        self.token_to_id = {v : k for k, v in enumerate(self.vocab)}\n",
        "        self.id_to_token = {k : v for k, v in enumerate(self.vocab)}\n",
        "        self.ntokens = len(self.vocab)\n",
        "        self.pattern = f\"[^{re.escape(''.join(self.vocab))}]\"\n",
        "\n",
        "    def clean(self, text):\n",
        "        \"\"\"\n",
        "        removes all characters not in the vocabulary\n",
        "        \"\"\"\n",
        "        out = re.sub(self.pattern, \"\", text)\n",
        "        return out\n",
        "\n",
        "    def pre_tokenization(self, text):\n",
        "        \"\"\"\n",
        "        character-level\n",
        "        \"\"\"\n",
        "        return [c for c in text]\n",
        "\n",
        "    def encode(self, text):\n",
        "        text_list = self.pre_tokenization(self.clean(text))\n",
        "        return [self.token_to_id[c] for c in text_list]\n",
        "\n",
        "    def decode(self, token_list):\n",
        "        return \"\".join([self.id_to_token[x] for x in token_list])"
      ]
    },
    {
      "cell_type": "code",
      "execution_count": 65,
      "id": "QuCc6jF5F8hK",
      "metadata": {
        "id": "QuCc6jF5F8hK",
        "colab": {
          "base_uri": "https://localhost:8080/"
        },
        "outputId": "b5ad68c3-3fe7-4e6b-a3d2-0a0ea3c3ec8b"
      },
      "outputs": [
        {
          "output_type": "execute_result",
          "data": {
            "text/plain": [
              "14"
            ]
          },
          "metadata": {},
          "execution_count": 65
        }
      ],
      "source": [
        "tokenizer = character_level_tokenizer()\n",
        "ntokens = tokenizer.ntokens\n",
        "ntokens"
      ]
    },
    {
      "cell_type": "code",
      "execution_count": 66,
      "id": "8FXW2K-1Jd-P",
      "metadata": {
        "colab": {
          "base_uri": "https://localhost:8080/"
        },
        "id": "8FXW2K-1Jd-P",
        "outputId": "c7c1b6fa-7a44-4513-fa14-4c7ae0385ff4"
      },
      "outputs": [
        {
          "output_type": "execute_result",
          "data": {
            "text/plain": [
              "([1, 2, 10, 4, 2, 11], '12+42=')"
            ]
          },
          "metadata": {},
          "execution_count": 66
        }
      ],
      "source": [
        "prompt = \"12 + 42 =\"\n",
        "inputs = tokenizer.encode(prompt)\n",
        "inputs, tokenizer.decode(inputs)"
      ]
    },
    {
      "cell_type": "markdown",
      "id": "j3gckvebGGYt",
      "metadata": {
        "id": "j3gckvebGGYt"
      },
      "source": [
        "# Implement your tokenizer here!\n",
        "\n",
        "You can do anything (as long as you do not compute the addition!).\n",
        "Some ideas:\n",
        "* reversing numbers left to right\n",
        "* arranging by groups (of, 2, 3,...)\n",
        "* aligning numbers"
      ]
    },
    {
      "cell_type": "markdown",
      "source": [
        "### My intuition\n",
        "\n",
        "\n",
        "I have built a Tokenizer which encodes addition as a sequence of additions of digits, in the ascending order, to make it easier for the model to understand carries.\n",
        "\n",
        "The idea is to decompose 127 + 365 as (7+1).e0 + (2+6)e1 + (1+3)e2.\n",
        "\n",
        "This sequential encoding is better suited to LLM architectures\n",
        "\n",
        "\n"
      ],
      "metadata": {
        "id": "MY4r4e16orZR"
      },
      "id": "MY4r4e16orZR"
    },
    {
      "cell_type": "code",
      "source": [
        "class ColumnWiseAdditionTokenizer:\n",
        "    def __init__(self):\n",
        "        self.vocab = [str(i) for i in range(10)] + [\"+\", \"=\", pad_token, eos_token]\n",
        "        self.token_to_id = {v: k for k, v in enumerate(self.vocab)}\n",
        "        self.id_to_token = {k: v for v, k in self.token_to_id.items()}\n",
        "        self.ntokens = len(self.vocab)\n",
        "        self.pattern = f\"[^{re.escape(''.join(self.vocab))}]\"\n",
        "\n",
        "    def clean(self, text):\n",
        "        \"\"\"\n",
        "        Removes all characters not in the vocabulary\n",
        "        \"\"\"\n",
        "        return re.sub(self.pattern, \"\", text)\n",
        "\n",
        "    def pre_tokenization(self, num1, num2=None):\n",
        "        \"\"\"\n",
        "        Returns a list of characters.\n",
        "        Tokenizes an addition into a column-wise addition sequence\n",
        "        If only num1 is provided, it returns a simple tokenized number.\n",
        "        \"\"\"\n",
        "        num1 = str(num1)\n",
        "        if num2 is None:\n",
        "            return list(num1)\n",
        "\n",
        "        num2 = str(num2)\n",
        "        max_len = max(len(num1), len(num2))\n",
        "        num1, num2 = num1.zfill(max_len), num2.zfill(max_len)  # Padding with zeros\n",
        "\n",
        "        tokens = []\n",
        "        for i in range(max_len - 1, -1, -1):  # Start from least significant digit\n",
        "            tokens.append(num1[i])\n",
        "            tokens.append(\"+\")\n",
        "            tokens.append(num2[i])\n",
        "            tokens.append(\"=\")\n",
        "        return tokens\n",
        "\n",
        "    def encode(self, text):\n",
        "        \"\"\"\n",
        "        Extract num1 and num2 from the string input and tokenize accordingly\n",
        "        \"\"\"\n",
        "        match = re.match(r\"(\\d+)\\+(\\d+)=\", text)\n",
        "        if match:\n",
        "            num1, num2 = match.groups()\n",
        "            token_list = self.pre_tokenization(num1, num2)\n",
        "        else:\n",
        "            # If the input is just a number, encode it as digits\n",
        "            token_list = self.pre_tokenization(text)\n",
        "\n",
        "        return [self.token_to_id[t] for t in token_list if t in self.token_to_id]\n",
        "\n",
        "    def decode(self, token_list):\n",
        "        return \"\".join([self.id_to_token[x] for x in token_list if x in self.id_to_token])\n",
        "\n",
        "# Example\n",
        "tokenizer = ColumnWiseAdditionTokenizer()\n",
        "ntokens = tokenizer.ntokens\n",
        "encoded = tokenizer.encode('703+499=')\n",
        "print(\"Encoded:\", encoded)\n",
        "print(\"Decoded:\", tokenizer.decode(encoded))\n"
      ],
      "metadata": {
        "colab": {
          "base_uri": "https://localhost:8080/"
        },
        "id": "c-FeA7b7tpKc",
        "outputId": "3863dd55-328f-48f0-c8f1-7986edd7f4a5"
      },
      "id": "c-FeA7b7tpKc",
      "execution_count": 67,
      "outputs": [
        {
          "output_type": "stream",
          "name": "stdout",
          "text": [
            "Encoded: [3, 10, 9, 11, 0, 10, 9, 11, 7, 10, 4, 11]\n",
            "Decoded: 3+9=0+9=7+4=\n"
          ]
        }
      ]
    },
    {
      "cell_type": "markdown",
      "id": "491af297",
      "metadata": {
        "id": "491af297"
      },
      "source": [
        "## Step 2: Create a dataset for arithmetic operations"
      ]
    },
    {
      "cell_type": "code",
      "execution_count": 68,
      "id": "daa90f31",
      "metadata": {
        "colab": {
          "base_uri": "https://localhost:8080/"
        },
        "id": "daa90f31",
        "outputId": "86867c5a-1f9e-4966-b75c-53e592918b2c"
      },
      "outputs": [
        {
          "output_type": "execute_result",
          "data": {
            "text/plain": [
              "('207+564=', '771')"
            ]
          },
          "metadata": {},
          "execution_count": 68
        }
      ],
      "source": [
        "def sample_datapoint(number_bits = 3):\n",
        "    \"\"\"\n",
        "    returns a string containing two random numbers on `number_bits` many bits and their sum.\n",
        "    \"\"\"\n",
        "    a_list = [random.randint(0, 9) for _ in range(number_bits)]\n",
        "    b_list = [random.randint(0, 9) for _ in range(number_bits)]\n",
        "    a_int = int(\"\".join([str(x) for x in a_list]))\n",
        "    b_int = int(\"\".join([str(x) for x in b_list]))\n",
        "    sum_int = a_int + b_int\n",
        "    return (str(a_int) + \"+\" + str(b_int) + \"=\", str(sum_int))\n",
        "\n",
        "sample_datapoint(3)"
      ]
    },
    {
      "cell_type": "code",
      "execution_count": 69,
      "id": "b6e861d2",
      "metadata": {
        "colab": {
          "base_uri": "https://localhost:8080/"
        },
        "id": "b6e861d2",
        "outputId": "8a85cb27-816f-4ccd-9a89-63f9f743f736"
      },
      "outputs": [
        {
          "output_type": "execute_result",
          "data": {
            "text/plain": [
              "[('54+404=', '458'),\n",
              " ('716+251=', '967'),\n",
              " ('432+110=', '542'),\n",
              " ('986+41=', '1027')]"
            ]
          },
          "metadata": {},
          "execution_count": 69
        }
      ],
      "source": [
        "data = []\n",
        "for _ in range(dataset_size):\n",
        "    data.append(sample_datapoint(number_bits))\n",
        "data[:4]"
      ]
    },
    {
      "cell_type": "code",
      "execution_count": 70,
      "id": "fee85050",
      "metadata": {
        "colab": {
          "base_uri": "https://localhost:8080/"
        },
        "id": "fee85050",
        "outputId": "ffd0efbe-597c-4803-d082-83619ec5a6ee"
      },
      "outputs": [
        {
          "output_type": "execute_result",
          "data": {
            "text/plain": [
              "(57600, 6400)"
            ]
          },
          "metadata": {},
          "execution_count": 70
        }
      ],
      "source": [
        "data_train = data[: int(train_proportion * dataset_size)]\n",
        "data_test = data[int(train_proportion * dataset_size):]\n",
        "\n",
        "len(data_train),len(data_test)"
      ]
    },
    {
      "cell_type": "markdown",
      "id": "37200598",
      "metadata": {
        "id": "37200598"
      },
      "source": [
        "## Step 3: Construct a model"
      ]
    },
    {
      "cell_type": "markdown",
      "id": "0fd7d2eb",
      "metadata": {
        "id": "0fd7d2eb"
      },
      "source": [
        "### Basline: the classical Positional Embedding"
      ]
    },
    {
      "cell_type": "code",
      "execution_count": 72,
      "id": "91674239",
      "metadata": {
        "id": "91674239"
      },
      "outputs": [],
      "source": [
        "class PositionalEmbedding(nn.Module):\n",
        "    r\"\"\"Inject some information about the relative or absolute position of the tokens in the sequence.\n",
        "        The positional encodings have the same dimension as the embeddings, so that the two can be summed.\n",
        "        Here, we use sine and cosine functions of different frequencies.\n",
        "    .. math:\n",
        "        \\text{PosEmbedder}(pos, 2i) = sin(pos/10000^(2i/d_model))\n",
        "        \\text{PosEmbedder}(pos, 2i+1) = cos(pos/10000^(2i/d_model))\n",
        "        \\text{where pos is the word position and i is the embed idx)\n",
        "    Args:\n",
        "        d_model: the embed dim (required).\n",
        "        dropout: the dropout value (default=0.1).\n",
        "        max_len: the max. length of the incoming sequence (default=5000).\n",
        "    \"\"\"\n",
        "\n",
        "    def __init__(self, d_model, dropout=0.1, max_len=5000):\n",
        "        super(PositionalEmbedding, self).__init__()\n",
        "        self.dropout = nn.Dropout(p=dropout)\n",
        "\n",
        "        pe = torch.zeros(max_len, d_model)\n",
        "        position = torch.arange(0, max_len, dtype=torch.float).unsqueeze(1)\n",
        "        div_term = torch.exp(torch.arange(0, d_model, 2).float() * (-math.log(10000.0) / d_model))\n",
        "        pe[:, 0::2] = torch.sin(position * div_term)\n",
        "        pe[:, 1::2] = torch.cos(position * div_term)\n",
        "        pe = pe.unsqueeze(0).transpose(0, 1)\n",
        "        self.register_buffer('pe', pe)\n",
        "\n",
        "    def forward(self, x):\n",
        "        \"\"\"Inputs of forward function\n",
        "        Args:\n",
        "            x: the sequence fed to the positional encoder model (required).\n",
        "        Shape:\n",
        "            x: [sequence length, batch size, embed dim]\n",
        "            output: [sequence length, batch size, embed dim]\n",
        "        \"\"\"\n",
        "        print(\"x size \", x.size())\n",
        "        print(\"self.pe[:x.size(0), :] size \", self.pe[:x.size(0), :].size())\n",
        "        x = x + self.pe[:x.size(0), :]\n",
        "        return self.dropout(x)\n"
      ]
    },
    {
      "cell_type": "markdown",
      "id": "8296ceb2",
      "metadata": {
        "id": "8296ceb2"
      },
      "source": [
        "# Implement your positional embedding here!\n",
        "\n",
        "You can do anything. Some ideas:\n",
        "* RoPE\n",
        "* (randomised) FIRE\n",
        "* Abacus\n",
        "\n",
        "**!!! IMPORTANT !!!** This model of Transformers is \"input first\", meaning that an input is a tensor with shape\n",
        "(length_prompts, batch_size)"
      ]
    },
    {
      "cell_type": "markdown",
      "source": [
        "## My intuition\n",
        "\n",
        "My tokenization and addition representation as sequences is already very helpful for the model. I reach 100% accuracy at epoch 4 with the classic positional embedding. However, I implemented another version which learns embeddings directly associated to positions (embeding for 1st digit, 2nd digit etc.). As the max lenght is small, learning a few different embeddings can be better and result in faster training.\n"
      ],
      "metadata": {
        "id": "hFTGqu94po3P"
      },
      "id": "hFTGqu94po3P"
    },
    {
      "cell_type": "code",
      "source": [
        "class TrainablePositionalEmbedding(nn.Module):\n",
        "    def __init__(self, d_model, max_len=5000, dropout=0.1):\n",
        "        super(TrainablePositionalEmbedding, self).__init__()\n",
        "        self.dropout = nn.Dropout(p=dropout)\n",
        "\n",
        "        self.pe = nn.Parameter(torch.randn(max_len, 1, d_model) * 0.01)  # 1 for batch size broadcasting\n",
        "\n",
        "    def forward(self, x):\n",
        "        \"\"\"\n",
        "        Args:\n",
        "            x: Tensor de forme [sequence length, batch size, embed dim]\n",
        "        \"\"\"\n",
        "        #print(\"x size:\", x.size())\n",
        "        #print(\"self.pe[:x.size(0), :, :] size:\", self.pe[:x.size(0), :, :].size())\n",
        "\n",
        "        x = x + self.pe[:x.size(0), :, :]\n",
        "        return self.dropout(x)\n"
      ],
      "metadata": {
        "id": "jno5RfrlixBe"
      },
      "id": "jno5RfrlixBe",
      "execution_count": 74,
      "outputs": []
    },
    {
      "cell_type": "code",
      "execution_count": 75,
      "id": "4eb278ab",
      "metadata": {
        "id": "4eb278ab"
      },
      "outputs": [],
      "source": [
        "class TransformerModel(nn.Transformer):\n",
        "    def __init__(self, ntoken, ninp, nhead, nhid, nlayers, dropout=0.5):\n",
        "        super(TransformerModel, self).__init__(d_model=ninp,\n",
        "                                               nhead=nhead,\n",
        "                                               dim_feedforward=nhid,\n",
        "                                               num_encoder_layers=nlayers)\n",
        "        self.input_emb = nn.Embedding(ntoken, ninp)\n",
        "        self.pos_encoder = TrainablePositionalEmbedding(d_model=ninp, dropout=dropout)  #PositionalEmbedding(ninp, dropout)\n",
        "        self.decoder = nn.Linear(ninp, ntoken)\n",
        "\n",
        "        self.ninp = ninp\n",
        "        self.init_weights()\n",
        "\n",
        "    def init_weights(self):\n",
        "        initrange = 0.1\n",
        "        nn.init.uniform_(self.input_emb.weight, -initrange, initrange)\n",
        "        nn.init.zeros_(self.decoder.bias)\n",
        "        nn.init.uniform_(self.decoder.weight, -initrange, initrange)\n",
        "\n",
        "    def _generate_square_subsequent_mask(self, sz):\n",
        "        return torch.log(torch.tril(torch.ones(sz,sz)))\n",
        "\n",
        "    def forward(self, src):\n",
        "        mask = self._generate_square_subsequent_mask(len(src)).to(device)\n",
        "        self.src_mask = mask\n",
        "\n",
        "        src = self.input_emb(src) * math.sqrt(self.ninp)\n",
        "        src = self.pos_encoder(src)\n",
        "        output_enc = self.encoder(src, mask=self.src_mask)\n",
        "        output_dec = self.decoder(output_enc)\n",
        "        return F.log_softmax(output_dec, dim=-1), output_enc"
      ]
    },
    {
      "cell_type": "code",
      "execution_count": 76,
      "id": "42f9d1ee",
      "metadata": {
        "colab": {
          "base_uri": "https://localhost:8080/"
        },
        "id": "42f9d1ee",
        "outputId": "1ca35070-d359-4a80-f2f0-d19c8e087fea"
      },
      "outputs": [
        {
          "output_type": "stream",
          "name": "stdout",
          "text": [
            "cuda\n"
          ]
        }
      ],
      "source": [
        "device = torch.device(\"cuda\" if torch.cuda.is_available() else \"cpu\")\n",
        "print(device)"
      ]
    },
    {
      "cell_type": "markdown",
      "id": "a30e093a",
      "metadata": {
        "id": "a30e093a"
      },
      "source": [
        "Please do not change these parameters!"
      ]
    },
    {
      "cell_type": "code",
      "execution_count": 119,
      "id": "1d568cc4",
      "metadata": {
        "colab": {
          "base_uri": "https://localhost:8080/"
        },
        "id": "1d568cc4",
        "outputId": "df93f30f-e4d8-4651-f0e5-35feae5be087"
      },
      "outputs": [
        {
          "output_type": "stream",
          "name": "stderr",
          "text": [
            "/usr/local/lib/python3.11/dist-packages/torch/nn/modules/transformer.py:379: UserWarning: enable_nested_tensor is True, but self.use_nested_tensor is False because encoder_layer.self_attn.batch_first was not True(use batch_first for better inference performance)\n",
            "  warnings.warn(\n"
          ]
        },
        {
          "output_type": "execute_result",
          "data": {
            "text/plain": [
              "TransformerModel(\n",
              "  (encoder): TransformerEncoder(\n",
              "    (layers): ModuleList(\n",
              "      (0-7): 8 x TransformerEncoderLayer(\n",
              "        (self_attn): MultiheadAttention(\n",
              "          (out_proj): NonDynamicallyQuantizableLinear(in_features=128, out_features=128, bias=True)\n",
              "        )\n",
              "        (linear1): Linear(in_features=128, out_features=64, bias=True)\n",
              "        (dropout): Dropout(p=0.1, inplace=False)\n",
              "        (linear2): Linear(in_features=64, out_features=128, bias=True)\n",
              "        (norm1): LayerNorm((128,), eps=1e-05, elementwise_affine=True)\n",
              "        (norm2): LayerNorm((128,), eps=1e-05, elementwise_affine=True)\n",
              "        (dropout1): Dropout(p=0.1, inplace=False)\n",
              "        (dropout2): Dropout(p=0.1, inplace=False)\n",
              "      )\n",
              "    )\n",
              "    (norm): LayerNorm((128,), eps=1e-05, elementwise_affine=True)\n",
              "  )\n",
              "  (decoder): Linear(in_features=128, out_features=14, bias=True)\n",
              "  (input_emb): Embedding(14, 128)\n",
              "  (pos_encoder): TrainablePositionalEmbedding(\n",
              "    (dropout): Dropout(p=0.5, inplace=False)\n",
              "  )\n",
              ")"
            ]
          },
          "metadata": {},
          "execution_count": 119
        }
      ],
      "source": [
        "model = TransformerModel(ntoken = ntokens,\n",
        "                         ninp = 128,\n",
        "                         nhead = 16,\n",
        "                         nhid = 64,\n",
        "                         nlayers = 8)\n",
        "model.to(device)"
      ]
    },
    {
      "cell_type": "code",
      "execution_count": 120,
      "id": "8f2f06e0",
      "metadata": {
        "id": "8f2f06e0"
      },
      "outputs": [],
      "source": [
        "def generate(model, prompts, new_tokens = 5):\n",
        "    input_tensor = prompts # (length_prompts, batch_size)\n",
        "    input_tensor = input_tensor.to(device)\n",
        "    for _ in range(new_tokens):\n",
        "        output, _ = model(input_tensor) # (length_prompts, batch_size, ntokens)\n",
        "        last_output = output[-1,:,:] # (batch_size, ntokens)\n",
        "        token = torch.argmax(last_output, -1).view((1,-1)) # (1, batch_size)\n",
        "\n",
        "        #print(f\"input_tensor shape: {input_tensor.shape}\")  # Debug\n",
        "        #print(f\"token shape: {token.shape}\")  # Debug\n",
        "\n",
        "        input_tensor = torch.cat((input_tensor, token), 0)\n",
        "    return input_tensor"
      ]
    },
    {
      "cell_type": "code",
      "execution_count": 108,
      "id": "d76d1b19",
      "metadata": {
        "colab": {
          "base_uri": "https://localhost:8080/"
        },
        "id": "d76d1b19",
        "outputId": "b341ecd8-bbcf-4ee3-ee99-e8a7c4b282c6"
      },
      "outputs": [
        {
          "output_type": "execute_result",
          "data": {
            "text/plain": [
              "(tensor([[ 2, 10,  3, 11, 10, 13,  4,  4, 10]], device='cuda:0'),\n",
              " '2+3=+[EOS]44+')"
            ]
          },
          "metadata": {},
          "execution_count": 108
        }
      ],
      "source": [
        "model.eval()\n",
        "\n",
        "prompt = \"2+3=\"\n",
        "prompt_tensor = torch.tensor(tokenizer.encode(prompt)).view((-1,1))\n",
        "output = generate(model, prompt_tensor).view((1,-1))\n",
        "output, tokenizer.decode(output.tolist()[0])"
      ]
    },
    {
      "cell_type": "code",
      "execution_count": 121,
      "id": "00954ddc",
      "metadata": {
        "id": "00954ddc"
      },
      "outputs": [],
      "source": [
        "def pad(token_list, type_list = \"prompts\"):\n",
        "    max_length = max([len(x) for x in token_list])\n",
        "    out = []\n",
        "    for x in token_list:\n",
        "        if type_list == \"prompts\":\n",
        "            out.append([tokenizer.token_to_id[pad_token]] * (max_length - len(x)) + x)\n",
        "        if type_list == \"answers\":\n",
        "            out.append(x + [tokenizer.token_to_id[eos_token]] + [tokenizer.token_to_id[pad_token]] * (max_length - len(x)))\n",
        "    return out, max_length"
      ]
    },
    {
      "cell_type": "code",
      "execution_count": 122,
      "id": "2c84beab",
      "metadata": {
        "colab": {
          "base_uri": "https://localhost:8080/"
        },
        "id": "2c84beab",
        "outputId": "de8adb88-6237-4023-c1e8-fdd4a92823a6"
      },
      "outputs": [
        {
          "output_type": "execute_result",
          "data": {
            "text/plain": [
              "(['[PAD][PAD][PAD][PAD]1+1=', '1+5=2+3='], ['2[EOS][PAD]', '56[EOS]'])"
            ]
          },
          "metadata": {},
          "execution_count": 122
        }
      ],
      "source": [
        "prompts = [tokenizer.encode(\"1+1=\"), tokenizer.encode(\"21+35=\")]\n",
        "answers = [tokenizer.encode(\"2\"), tokenizer.encode(\"56\")]\n",
        "padded_prompts, _ = pad(prompts, \"prompts\")\n",
        "padded_answers, _ = pad(answers, \"answers\")\n",
        "padded_prompts, padded_answers\n",
        "[tokenizer.decode(p) for p in padded_prompts], [tokenizer.decode(p) for p in padded_answers]"
      ]
    },
    {
      "cell_type": "code",
      "execution_count": 123,
      "id": "264f9227",
      "metadata": {
        "id": "264f9227"
      },
      "outputs": [],
      "source": [
        "def get_batch(split, i):\n",
        "    data = data_train if split == 'train' else data_test\n",
        "    prompts = [tokenizer.encode(data[i][0]) for i in range(i, i + batch_size)]\n",
        "    padded_prompts, length_prompts = pad(prompts, \"prompts\")\n",
        "    answers = [tokenizer.encode(data[i][1]) for i in range(i, i + batch_size)]\n",
        "    padded_answers, length_answers = pad(answers, \"answers\")\n",
        "    X = torch.stack([torch.tensor(x) for x in padded_prompts], 1)\n",
        "    Y = torch.stack([torch.tensor(x) for x in padded_answers], 1)\n",
        "    return X, Y, length_prompts, length_answers"
      ]
    },
    {
      "cell_type": "code",
      "execution_count": 124,
      "id": "91e281ad",
      "metadata": {
        "colab": {
          "base_uri": "https://localhost:8080/"
        },
        "id": "91e281ad",
        "outputId": "198b68e6-dc9c-4767-f32b-b1d6bc5c8f02"
      },
      "outputs": [
        {
          "output_type": "execute_result",
          "data": {
            "text/plain": [
              "(torch.Size([12, 64]), torch.Size([5, 64]), 12, 4)"
            ]
          },
          "metadata": {},
          "execution_count": 124
        }
      ],
      "source": [
        "X, Y, length_prompts, length_answers = get_batch(\"train\", 243)\n",
        "X.shape, Y.shape, length_prompts, length_answers"
      ]
    },
    {
      "cell_type": "markdown",
      "id": "113e1fd1",
      "metadata": {
        "id": "113e1fd1"
      },
      "source": [
        "## Step 4: Evaluate"
      ]
    },
    {
      "cell_type": "code",
      "execution_count": 125,
      "id": "1cfcd10a",
      "metadata": {
        "id": "1cfcd10a"
      },
      "outputs": [],
      "source": [
        "def evaluate():\n",
        "    # Turn on evaluation mode disables dropout.\n",
        "    model.eval()\n",
        "    correct = 0.\n",
        "    with torch.no_grad():\n",
        "        for batch, i in enumerate(range(0, len(data_test) - 1, batch_size)):\n",
        "            prompts, target_answers, length_prompts, length_answers = get_batch(\"test\", i)\n",
        "            prompts = prompts.to(device) # (length_prompts, batch_size)\n",
        "            target_answers = target_answers.to(device) # (length_answers + 1, batch_size)\n",
        "            output = generate(model, prompts, length_answers + 1) # (length_prompts + length_answers + 1, batch_size)\n",
        "            answers_tokens = output[length_prompts:, :] # (length_answers + 1, batch_size), contains tokens\n",
        "            equality_test = answers_tokens == target_answers # (length_answers + 1, batch_size), contains boolean values\n",
        "            correct += torch.all(equality_test, axis=0).float().sum()\n",
        "        accuracy = correct / len(data_test)\n",
        "    return accuracy.item()"
      ]
    },
    {
      "cell_type": "code",
      "execution_count": 126,
      "id": "ac335b05",
      "metadata": {
        "colab": {
          "base_uri": "https://localhost:8080/"
        },
        "id": "ac335b05",
        "outputId": "4739f16b-d53d-4f89-e3aa-dbee715a9e50"
      },
      "outputs": [
        {
          "output_type": "execute_result",
          "data": {
            "text/plain": [
              "0.0"
            ]
          },
          "metadata": {},
          "execution_count": 126
        }
      ],
      "source": [
        "evaluate()"
      ]
    },
    {
      "cell_type": "markdown",
      "id": "4c54061a",
      "metadata": {
        "id": "4c54061a"
      },
      "source": [
        "## Step 4: Train the model"
      ]
    },
    {
      "cell_type": "code",
      "execution_count": 127,
      "id": "3638a75d",
      "metadata": {
        "id": "3638a75d"
      },
      "outputs": [],
      "source": [
        "def train_epoch():\n",
        "    model.train()\n",
        "    optimizer = torch.optim.AdamW(model.parameters(), lr=learning_rate)\n",
        "    total_loss = 0.\n",
        "    start_time = time.time()\n",
        "    for batch, i in enumerate(range(0, len(data_train) - 1, batch_size)):\n",
        "        prompts, target_answers, length_prompts, length_answers = get_batch(\"train\", i)\n",
        "        prompts = prompts.to(device) # (length_prompts, batch_size)\n",
        "        target_answers = target_answers.to(device) # (length_answers, batch_size)\n",
        "        input_tensor = torch.cat((prompts, target_answers), 0) # (length_prompts + length_answers, batch_size)\n",
        "        model.zero_grad()\n",
        "        output, _ = model(input_tensor) # (length_prompts + length_answers, batch_size, ntokens)\n",
        "        output_answers = output[length_prompts-1:-1,:,:].reshape(-1, ntokens) # (length_answers * batch_size, ntokens)\n",
        "        target_answers = target_answers.view(-1)\n",
        "        loss = F.cross_entropy(output_answers, target_answers)\n",
        "        loss.backward()\n",
        "        optimizer.step()\n",
        "\n",
        "        total_loss += loss.item()\n",
        "\n",
        "        if batch % log_interval == 0 and batch > 0:\n",
        "            cur_loss = total_loss / log_interval\n",
        "            elapsed = time.time() - start_time\n",
        "            print('| {:5d}/{:5d} batches | ms/batch {:5.2f} | loss {:5.2f} | perplexity {:8.2f}'.format(batch, len(data_train) // batch_size,\n",
        "                                                                                                        elapsed * 1000 / log_interval, cur_loss, math.exp(cur_loss)))\n",
        "            total_loss = 0\n",
        "            start_time = time.time()\n",
        "\n",
        "def train():\n",
        "    best_test_accuracy = None\n",
        "    test_accuracy = evaluate()\n",
        "    print('-' * 89)\n",
        "    print('| initialisation | test accuracy {:5.2f}'.format(test_accuracy))\n",
        "    print('-' * 89)\n",
        "    for epoch in range(1, epochs+1):\n",
        "        epoch_start_time = time.time()\n",
        "        train_epoch()\n",
        "        test_accuracy = evaluate()\n",
        "        print('-' * 89)\n",
        "        print('| end of epoch {:3d} | time: {:5.2f}s | test accuracy {:5.2f}'.format(epoch, (time.time() - epoch_start_time), test_accuracy))\n",
        "        print('-' * 89)\n",
        "        # Save the model if the test accuracy is the best we've seen so far.\n",
        "        if not best_test_accuracy or test_accuracy < best_test_accuracy:\n",
        "            with open(\"arithmetic.pt\", 'wb') as f:\n",
        "                torch.save(model, f)\n",
        "            best_test_accuracy = test_accuracy"
      ]
    },
    {
      "cell_type": "code",
      "execution_count": 128,
      "id": "4e2a8490",
      "metadata": {
        "colab": {
          "base_uri": "https://localhost:8080/"
        },
        "id": "4e2a8490",
        "outputId": "fa3ee26b-75d5-45de-9a20-c0a146e8490f"
      },
      "outputs": [
        {
          "output_type": "stream",
          "name": "stdout",
          "text": [
            "-----------------------------------------------------------------------------------------\n",
            "| initialisation | test accuracy  0.00\n",
            "-----------------------------------------------------------------------------------------\n",
            "|   200/  900 batches | ms/batch 21.01 | loss  1.86 | perplexity     6.41\n",
            "|   400/  900 batches | ms/batch 25.06 | loss  1.40 | perplexity     4.07\n",
            "|   600/  900 batches | ms/batch 20.89 | loss  1.08 | perplexity     2.93\n",
            "|   800/  900 batches | ms/batch 20.75 | loss  0.89 | perplexity     2.44\n",
            "-----------------------------------------------------------------------------------------\n",
            "| end of epoch   1 | time: 22.92s | test accuracy  0.07\n",
            "-----------------------------------------------------------------------------------------\n",
            "|   200/  900 batches | ms/batch 20.86 | loss  0.78 | perplexity     2.19\n",
            "|   400/  900 batches | ms/batch 22.04 | loss  0.71 | perplexity     2.04\n",
            "|   600/  900 batches | ms/batch 24.03 | loss  0.62 | perplexity     1.86\n",
            "|   800/  900 batches | ms/batch 20.47 | loss  0.45 | perplexity     1.57\n",
            "-----------------------------------------------------------------------------------------\n",
            "| end of epoch   2 | time: 22.63s | test accuracy  0.79\n",
            "-----------------------------------------------------------------------------------------\n",
            "|   200/  900 batches | ms/batch 21.36 | loss  0.27 | perplexity     1.30\n",
            "|   400/  900 batches | ms/batch 20.58 | loss  0.21 | perplexity     1.24\n",
            "|   600/  900 batches | ms/batch 24.76 | loss  0.17 | perplexity     1.18\n",
            "|   800/  900 batches | ms/batch 20.72 | loss  0.15 | perplexity     1.16\n",
            "-----------------------------------------------------------------------------------------\n",
            "| end of epoch   3 | time: 21.97s | test accuracy  1.00\n",
            "-----------------------------------------------------------------------------------------\n",
            "|   200/  900 batches | ms/batch 25.24 | loss  0.12 | perplexity     1.13\n",
            "|   400/  900 batches | ms/batch 25.09 | loss  0.10 | perplexity     1.11\n",
            "|   600/  900 batches | ms/batch 22.79 | loss  0.12 | perplexity     1.13\n",
            "|   800/  900 batches | ms/batch 23.43 | loss  0.13 | perplexity     1.13\n",
            "-----------------------------------------------------------------------------------------\n",
            "| end of epoch   4 | time: 23.84s | test accuracy  1.00\n",
            "-----------------------------------------------------------------------------------------\n"
          ]
        }
      ],
      "source": [
        "train()"
      ]
    },
    {
      "cell_type": "code",
      "execution_count": 129,
      "id": "56d9d440",
      "metadata": {
        "colab": {
          "base_uri": "https://localhost:8080/"
        },
        "id": "56d9d440",
        "outputId": "503c8f16-b36f-401f-e994-3180c8e25438"
      },
      "outputs": [
        {
          "output_type": "stream",
          "name": "stdout",
          "text": [
            "0+9=8+2=3+9=1309\t actual result: 1309\n",
            "1+3=8+4=8+4=1324\t actual result: 1324\n",
            "3+0=0+8=2+4=683\t actual result: 683\n",
            "9+3=6+2=0+7=792\t actual result: 792\n",
            "1+5=2+0=5+0=526\t actual result: 526\n",
            "5+7=0+2=9+1=1032\t actual result: 1032\n",
            "0+1=4+8=2+1=421\t actual result: 421\n",
            "7+9=9+5=7+2=1056\t actual result: 1056\n",
            "3+6=8+4=5+6=1229\t actual result: 1229\n",
            "6+3=6+9=9+8=1859\t actual result: 1859\n",
            "4+8=9+1=1+7=912\t actual result: 912\n",
            "8+5=2+8=3+3=713\t actual result: 713\n",
            "4+2=3+0=9+7=1636\t actual result: 1636\n",
            "9+1=7+8=2+7=1060\t actual result: 1060\n",
            "3+1=8+4=1+5=724\t actual result: 724\n",
            "3+4=4+8=8+1=1027\t actual result: 1027\n",
            "2+7=5+2=3+8=1179\t actual result: 1179\n",
            "6+8=4+6=4+1=614\t actual result: 614\n",
            "0+9=1+8=7+0=799\t actual result: 799\n",
            "0+0=0+3=8+1=930\t actual result: 930\n"
          ]
        }
      ],
      "source": [
        "model.eval()\n",
        "\n",
        "for i in range(20):\n",
        "    prompt, answers = data_test[i]\n",
        "    prompt_tensor = torch.tensor(tokenizer.encode(prompt)).view((-1,1))\n",
        "    output = generate(model, prompt_tensor, len(answers)).view((1,-1))\n",
        "    print(tokenizer.decode(output.tolist()[0]) + \"\\t actual result: \" + answers)"
      ]
    },
    {
      "cell_type": "markdown",
      "id": "qJ9IOZu8Xo4Y",
      "metadata": {
        "id": "qJ9IOZu8Xo4Y"
      },
      "source": [
        "## Probing"
      ]
    },
    {
      "cell_type": "markdown",
      "id": "78be1213",
      "metadata": {
        "id": "78be1213"
      },
      "source": [
        "This is just for fun..."
      ]
    },
    {
      "cell_type": "code",
      "execution_count": 130,
      "id": "yomPfirhXkLb",
      "metadata": {
        "id": "yomPfirhXkLb"
      },
      "outputs": [],
      "source": [
        "import numpy as np\n",
        "\n",
        "train_size = 1000\n",
        "test_size = 100\n",
        "\n",
        "model.eval()\n",
        "\n",
        "def data_probing(size):\n",
        "    X = []\n",
        "    y = np.zeros(size)\n",
        "    for i in range(size):\n",
        "        input = torch.tensor(tokenizer.encode(data[i][0])).view((-1, 1)).to(device)\n",
        "        _, output = model(input)\n",
        "        output = output[-1,:,:].flatten()\n",
        "        # determine whether there was a carry in the result:\n",
        "        carry = len(data[i][1]) > len(data[i][0]) / 2\n",
        "        X.append(output.cpu().detach().numpy())\n",
        "        y[i] = carry\n",
        "    return np.array(X), y"
      ]
    },
    {
      "cell_type": "code",
      "execution_count": 131,
      "id": "QGmfXVxkppfP",
      "metadata": {
        "id": "QGmfXVxkppfP",
        "colab": {
          "base_uri": "https://localhost:8080/"
        },
        "outputId": "5f40b8f8-3b25-4a2a-f760-11d337d81096"
      },
      "outputs": [
        {
          "output_type": "execute_result",
          "data": {
            "text/plain": [
              "1.0"
            ]
          },
          "metadata": {},
          "execution_count": 131
        }
      ],
      "source": [
        "from sklearn.linear_model import LogisticRegression\n",
        "from sklearn.preprocessing import StandardScaler\n",
        "\n",
        "X_train, y_train = data_probing(train_size)\n",
        "X_test, y_test = data_probing(test_size)\n",
        "\n",
        "scaler = StandardScaler()\n",
        "X_train = scaler.fit_transform(X_train)\n",
        "X_test = scaler.fit_transform(X_test)\n",
        "\n",
        "reg = LogisticRegression()\n",
        "reg.fit(X_train,y_train)\n",
        "reg.score(X_test, y_test)"
      ]
    }
  ],
  "metadata": {
    "accelerator": "GPU",
    "colab": {
      "gpuType": "T4",
      "provenance": []
    },
    "kernelspec": {
      "display_name": "MVA_venv",
      "language": "python",
      "name": "python3"
    },
    "language_info": {
      "codemirror_mode": {
        "name": "ipython",
        "version": 3
      },
      "file_extension": ".py",
      "mimetype": "text/x-python",
      "name": "python",
      "nbconvert_exporter": "python",
      "pygments_lexer": "ipython3",
      "version": "3.12.6"
    }
  },
  "nbformat": 4,
  "nbformat_minor": 5
}