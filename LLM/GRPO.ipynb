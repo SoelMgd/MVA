{
 "cells": [
  {
   "cell_type": "markdown",
   "metadata": {
    "id": "Pdval7tUZwdZ"
   },
   "source": [
    "# Groupe Relative Policy Optimization (GRPO)"
   ]
  },
  {
   "cell_type": "markdown",
   "metadata": {
    "id": "CorBhMaiZwdb"
   },
   "source": [
    "Install the Hugging Face libraries to run this notebook."
   ]
  },
  {
   "cell_type": "code",
   "execution_count": 1,
   "metadata": {
    "id": "CPGVVOEHZwdb",
    "scrolled": false
   },
   "outputs": [
    {
     "name": "stdout",
     "output_type": "stream",
     "text": [
      "Collecting transformers\n",
      "  Downloading transformers-4.48.3-py3-none-any.whl.metadata (44 kB)\n",
      "Requirement already satisfied: filelock in c:\\users\\soelm\\documents\\04_code\\mva\\mva_venv\\lib\\site-packages (from transformers) (3.17.0)\n",
      "Collecting huggingface-hub<1.0,>=0.24.0 (from transformers)\n",
      "  Downloading huggingface_hub-0.28.1-py3-none-any.whl.metadata (13 kB)\n",
      "Requirement already satisfied: numpy>=1.17 in c:\\users\\soelm\\documents\\04_code\\mva\\mva_venv\\lib\\site-packages (from transformers) (2.1.2)\n",
      "Requirement already satisfied: packaging>=20.0 in c:\\users\\soelm\\documents\\04_code\\mva\\mva_venv\\lib\\site-packages (from transformers) (24.1)\n",
      "Collecting pyyaml>=5.1 (from transformers)\n",
      "  Using cached PyYAML-6.0.2-cp312-cp312-win_amd64.whl.metadata (2.1 kB)\n",
      "Collecting regex!=2019.12.17 (from transformers)\n",
      "  Downloading regex-2024.11.6-cp312-cp312-win_amd64.whl.metadata (41 kB)\n",
      "Requirement already satisfied: requests in c:\\users\\soelm\\documents\\04_code\\mva\\mva_venv\\lib\\site-packages (from transformers) (2.32.3)\n",
      "Collecting tokenizers<0.22,>=0.21 (from transformers)\n",
      "  Downloading tokenizers-0.21.0-cp39-abi3-win_amd64.whl.metadata (6.9 kB)\n",
      "Collecting safetensors>=0.4.1 (from transformers)\n",
      "  Downloading safetensors-0.5.2-cp38-abi3-win_amd64.whl.metadata (3.9 kB)\n",
      "Requirement already satisfied: tqdm>=4.27 in c:\\users\\soelm\\documents\\04_code\\mva\\mva_venv\\lib\\site-packages (from transformers) (4.67.0)\n",
      "Requirement already satisfied: fsspec>=2023.5.0 in c:\\users\\soelm\\documents\\04_code\\mva\\mva_venv\\lib\\site-packages (from huggingface-hub<1.0,>=0.24.0->transformers) (2025.2.0)\n",
      "Requirement already satisfied: typing-extensions>=3.7.4.3 in c:\\users\\soelm\\documents\\04_code\\mva\\mva_venv\\lib\\site-packages (from huggingface-hub<1.0,>=0.24.0->transformers) (4.12.2)\n",
      "Requirement already satisfied: colorama in c:\\users\\soelm\\documents\\04_code\\mva\\mva_venv\\lib\\site-packages (from tqdm>=4.27->transformers) (0.4.6)\n",
      "Requirement already satisfied: charset-normalizer<4,>=2 in c:\\users\\soelm\\documents\\04_code\\mva\\mva_venv\\lib\\site-packages (from requests->transformers) (3.4.0)\n",
      "Requirement already satisfied: idna<4,>=2.5 in c:\\users\\soelm\\documents\\04_code\\mva\\mva_venv\\lib\\site-packages (from requests->transformers) (3.10)\n",
      "Requirement already satisfied: urllib3<3,>=1.21.1 in c:\\users\\soelm\\documents\\04_code\\mva\\mva_venv\\lib\\site-packages (from requests->transformers) (2.2.3)\n",
      "Requirement already satisfied: certifi>=2017.4.17 in c:\\users\\soelm\\documents\\04_code\\mva\\mva_venv\\lib\\site-packages (from requests->transformers) (2024.8.30)\n",
      "Downloading transformers-4.48.3-py3-none-any.whl (9.7 MB)\n",
      "   ---------------------------------------- 0.0/9.7 MB ? eta -:--:--\n",
      "   ---------------------------------- ----- 8.4/9.7 MB 39.8 MB/s eta 0:00:01\n",
      "   ---------------------------------------- 9.7/9.7 MB 37.6 MB/s eta 0:00:00\n",
      "Downloading huggingface_hub-0.28.1-py3-none-any.whl (464 kB)\n",
      "Using cached PyYAML-6.0.2-cp312-cp312-win_amd64.whl (156 kB)\n",
      "Downloading regex-2024.11.6-cp312-cp312-win_amd64.whl (273 kB)\n",
      "Downloading safetensors-0.5.2-cp38-abi3-win_amd64.whl (303 kB)\n",
      "Downloading tokenizers-0.21.0-cp39-abi3-win_amd64.whl (2.4 MB)\n",
      "   ---------------------------------------- 0.0/2.4 MB ? eta -:--:--\n",
      "   ---------------------------------------- 2.4/2.4 MB 27.3 MB/s eta 0:00:00\n",
      "Installing collected packages: safetensors, regex, pyyaml, huggingface-hub, tokenizers, transformers\n",
      "Successfully installed huggingface-hub-0.28.1 pyyaml-6.0.2 regex-2024.11.6 safetensors-0.5.2 tokenizers-0.21.0 transformers-4.48.3\n",
      "Note: you may need to restart the kernel to use updated packages.\n"
     ]
    },
    {
     "name": "stderr",
     "output_type": "stream",
     "text": [
      "\n",
      "[notice] A new release of pip is available: 24.2 -> 25.0.1\n",
      "[notice] To update, run: python.exe -m pip install --upgrade pip\n"
     ]
    }
   ],
   "source": [
    "%pip install transformers"
   ]
  },
  {
   "cell_type": "code",
   "execution_count": 2,
   "metadata": {},
   "outputs": [
    {
     "name": "stderr",
     "output_type": "stream",
     "text": [
      "c:\\Users\\soelm\\Documents\\04_Code\\MVA\\MVA_venv\\Lib\\site-packages\\tqdm\\auto.py:21: TqdmWarning: IProgress not found. Please update jupyter and ipywidgets. See https://ipywidgets.readthedocs.io/en/stable/user_install.html\n",
      "  from .autonotebook import tqdm as notebook_tqdm\n"
     ]
    }
   ],
   "source": [
    "import torch\n",
    "import torch.nn as nn\n",
    "from transformers import AutoModelForCausalLM, AutoTokenizer"
   ]
  },
  {
   "cell_type": "code",
   "execution_count": 3,
   "metadata": {},
   "outputs": [
    {
     "data": {
      "text/plain": [
       "'cpu'"
      ]
     },
     "execution_count": 3,
     "metadata": {},
     "output_type": "execute_result"
    }
   ],
   "source": [
    "device = \"cuda\" if torch.cuda.is_available() else \"cpu\"\n",
    "device"
   ]
  },
  {
   "cell_type": "markdown",
   "metadata": {},
   "source": [
    "Your goal is to fill in the `GRPOTrainer` class. You have two options (and you can do both):\n",
    "* the \"normal GRPO\" with clipped surrogate objective\n",
    "* or the \"vanilla GRPO\" with original objective"
   ]
  },
  {
   "cell_type": "code",
   "execution_count": null,
   "metadata": {},
   "outputs": [],
   "source": [
    "import torch\n",
    "import torch.nn.functional as F\n",
    "\n",
    "class GRPOTrainer:\n",
    "    def __init__(self, \n",
    "                 model,\n",
    "                 tokenizer,\n",
    "                 learning_rate=1e-5, \n",
    "                 temperature=1.0, \n",
    "                 max_length=100, \n",
    "                 device=\"cpu\",\n",
    "                 clip_epsilon=0.2,  # Seuil pour le clipping dans \"normal GRPO\"\n",
    "                 use_clipped=True):  # Active Clipped GRPO si True, sinon Vanilla GRPO\n",
    "        self.llm = model.to(device)\n",
    "        self.tokenizer = tokenizer\n",
    "        self.optimizer = torch.optim.AdamW(self.llm.parameters(), lr=learning_rate)\n",
    "        self.device = device\n",
    "        self.temperature = temperature\n",
    "        self.max_length = max_length\n",
    "        self.clip_epsilon = clip_epsilon\n",
    "        self.use_clipped = use_clipped  # Toggle entre normal et vanilla GRPO\n",
    "\n",
    "    def generate(self, prompt):\n",
    "        \"\"\"\n",
    "        Generate text from a prompt using the LLM.\n",
    "        \"\"\"\n",
    "        input_ids = self.tokenizer(prompt, return_tensors=\"pt\").input_ids.to(self.device)\n",
    "\n",
    "        with torch.no_grad():\n",
    "            output = self.llm.generate(\n",
    "                input_ids,\n",
    "                max_length=self.max_length,\n",
    "                temperature=self.temperature,\n",
    "                top_k=50,\n",
    "                do_sample=True\n",
    "            )\n",
    "        \n",
    "        text = self.tokenizer.decode(output[0], skip_special_tokens=True)\n",
    "        return text\n",
    "\n",
    "    def calculate_reward(self, text):\n",
    "        \"\"\"\n",
    "        Calculate reward using inverse perplexity.\n",
    "        \"\"\"\n",
    "        input_ids = self.tokenizer(text, return_tensors=\"pt\").input_ids.to(self.device)\n",
    "\n",
    "        with torch.no_grad():\n",
    "            outputs = self.llm(input_ids, labels=input_ids)\n",
    "            loss = outputs.loss  # NLL Loss (Negative Log-Likelihood)\n",
    "        \n",
    "        reward = -loss.item()  # Reward = -Perplexity (minimiser la perplexité)\n",
    "        return reward\n",
    "\n",
    "    def calculate_GRPO_advantages(self, rewards):\n",
    "        \"\"\"\n",
    "        Compute the normalized advantage for GRPO.\n",
    "        \"\"\"\n",
    "        rewards = torch.tensor(rewards, dtype=torch.float32, device=self.device)\n",
    "        mean_reward = rewards.mean()\n",
    "        std_reward = rewards.std() + 1e-8  # Avoid division by zero\n",
    "        advantages = (rewards - mean_reward) / std_reward\n",
    "        return advantages\n",
    "\n",
    "    def train_step(self, prompt):\n",
    "        \"\"\"\n",
    "        Perform one training step on a single prompt.\n",
    "        \"\"\"\n",
    "        # Générer des sorties\n",
    "        generated_text = self.generate(prompt)\n",
    "\n",
    "        # Calculer la récompense\n",
    "        reward = self.calculate_reward(generated_text)\n",
    "\n",
    "        # Calculer l'avantage GRPO\n",
    "        advantages = self.calculate_GRPO_advantages([reward])\n",
    "\n",
    "        # Encoder l'entrée et la sortie en tokens\n",
    "        input_ids = self.tokenizer(prompt, return_tensors=\"pt\").input_ids.to(self.device)\n",
    "        output_ids = self.tokenizer(generated_text, return_tensors=\"pt\").input_ids.to(self.device)\n",
    "\n",
    "        # Calculer la probabilité de la politique\n"
   ]
  },
  {
   "cell_type": "code",
   "execution_count": null,
   "metadata": {},
   "outputs": [],
   "source": [
    "class GRPOTrainer:\n",
    "    def __init__(self, \n",
    "                 model,\n",
    "                 tokenizer,\n",
    "                 learning_rate = 1e-5, \n",
    "                 temperature = 1.0, \n",
    "                 max_length = 100, \n",
    "                 device = \"cpu\"):\n",
    "        self.llm = model.to(device)\n",
    "        self.tokenizer = tokenizer\n",
    "        self.optimizer = torch.optim.AdamW(self.llm.parameters(), lr=learning_rate)\n",
    "        self.device = device\n",
    "        self.temperature = temperature\n",
    "        self.max_length = max_length\n",
    "\n",
    "    def generate(self, prompt):\n",
    "        input = self.tokenizer(prompt, return_tensors=\"pt\").to(self.device)\n",
    "\n",
    "        output = None\n",
    "        loss = None\n",
    "\n",
    "        text = self.tokenizer.decode(output[0])\n",
    "        return loss, text\n",
    "\n",
    "    def calculate_reward(self, output):\n",
    "        \"\"\"\n",
    "            Calcule the reward of a single output\n",
    "        \"\"\"\n",
    "        pass\n",
    "\n",
    "    def calculate_GRPO_advantages(self, outputs):\n",
    "        \"\"\"\n",
    "            Calculate the advantages of each output\n",
    "        \"\"\"\n",
    "        pass \n",
    "\n",
    "    def train_step(self, prompt):\n",
    "        \"\"\"\n",
    "            A training step on a single prompt\n",
    "        \"\"\"\n",
    "        pass"
   ]
  },
  {
   "cell_type": "code",
   "execution_count": null,
   "metadata": {},
   "outputs": [],
   "source": [
    "model_name = \"gpt2\"\n",
    "model = AutoModelForCausalLM.from_pretrained(model_name)\n",
    "tokenizer = AutoTokenizer.from_pretrained(model_name)"
   ]
  },
  {
   "cell_type": "code",
   "execution_count": null,
   "metadata": {},
   "outputs": [],
   "source": [
    "trainer = GRPOTrainer(model, tokenizer)\n",
    "prompts = [\"The best way to learn coding is\", \"The future of AI is\"]\n",
    "\n",
    "for epoch in range(3): # Train for a few epochs\n",
    "    loss = 0\n",
    "    for prompt in prompts:\n",
    "        loss += trainer.train_step(prompts)        \n",
    "    print(f\"Epoch {epoch+1}, Loss: {loss / len(prompts)}\")"
   ]
  },
  {
   "cell_type": "code",
   "execution_count": null,
   "metadata": {},
   "outputs": [],
   "source": [
    "trainer.generate_text(prompts)"
   ]
  }
 ],
 "metadata": {
  "colab": {
   "name": "Training a new tokenizer from an old one",
   "provenance": []
  },
  "kernelspec": {
   "display_name": "MVA_venv",
   "language": "python",
   "name": "python3"
  },
  "language_info": {
   "codemirror_mode": {
    "name": "ipython",
    "version": 3
   },
   "file_extension": ".py",
   "mimetype": "text/x-python",
   "name": "python",
   "nbconvert_exporter": "python",
   "pygments_lexer": "ipython3",
   "version": "3.12.6"
  }
 },
 "nbformat": 4,
 "nbformat_minor": 1
}
