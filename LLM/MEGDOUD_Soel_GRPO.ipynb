{
  "cells": [
    {
      "cell_type": "markdown",
      "id": "80517dbc",
      "metadata": {
        "id": "80517dbc"
      },
      "source": [
        "# GRPO Training project: teach an LLM to do additions, again"
      ]
    },
    {
      "cell_type": "markdown",
      "id": "DAEbh3jBadc7",
      "metadata": {
        "id": "DAEbh3jBadc7"
      },
      "source": [
        "In this notebook, you'll find:\n",
        "* A basic Transformer with basic tokenizer\n",
        "* A basic dataset for additions\n",
        "* A classical pre-trainer, minimizing cross entropy loss\n",
        "* A Vanilla GRPO"
      ]
    },
    {
      "cell_type": "markdown",
      "id": "MB8lj855LgHl",
      "metadata": {
        "id": "MB8lj855LgHl"
      },
      "source": [
        "You're not supposed to edit the existing code (you can if you want to...).\n",
        "You should implement one (or more) of the following:\n",
        "* GRPO with PPO (the `usual` one)\n",
        "* RLOO\n",
        "* ReMax\n",
        "* DPO\n",
        "* RAFT\n",
        "* your own RLHF method!"
      ]
    },
    {
      "cell_type": "code",
      "execution_count": 1,
      "id": "ae993bb9",
      "metadata": {
        "id": "ae993bb9"
      },
      "outputs": [],
      "source": [
        "import torch\n",
        "from torch import nn\n",
        "from torch.nn import functional as F\n",
        "\n",
        "import random\n",
        "import math\n",
        "import re\n",
        "import time\n",
        "import copy"
      ]
    },
    {
      "cell_type": "code",
      "execution_count": 2,
      "id": "OzGh9ahKF17h",
      "metadata": {
        "id": "OzGh9ahKF17h"
      },
      "outputs": [],
      "source": [
        "num_digits = 3\n",
        "\n",
        "dataset_size = 64_000\n",
        "train_proportion = 0.9"
      ]
    },
    {
      "cell_type": "code",
      "execution_count": 3,
      "id": "fabd151a",
      "metadata": {
        "colab": {
          "base_uri": "https://localhost:8080/"
        },
        "id": "fabd151a",
        "outputId": "e7b36965-8f38-4c49-cf03-0109ab723eca"
      },
      "outputs": [
        {
          "name": "stdout",
          "output_type": "stream",
          "text": [
            "cpu\n"
          ]
        }
      ],
      "source": [
        "device = torch.device(\"cuda\" if torch.cuda.is_available() else \"cpu\")\n",
        "print(device)"
      ]
    },
    {
      "cell_type": "markdown",
      "id": "6c054bed",
      "metadata": {
        "id": "6c054bed"
      },
      "source": [
        "## Step 1: Construct a tokenizer"
      ]
    },
    {
      "cell_type": "code",
      "execution_count": 4,
      "id": "g2QiF-otFur3",
      "metadata": {
        "id": "g2QiF-otFur3"
      },
      "outputs": [
        {
          "data": {
            "text/plain": [
              "14"
            ]
          },
          "execution_count": 4,
          "metadata": {},
          "output_type": "execute_result"
        }
      ],
      "source": [
        "pad_token=\"[PAD]\"\n",
        "eos_token=\"[EOS]\"\n",
        "\n",
        "class character_level_tokenizer:\n",
        "    \"\"\"\n",
        "    character-level\n",
        "    \"\"\"\n",
        "    def __init__(self):\n",
        "        self.vocab = [str(x) for x in range(10)] + [\"+\", \"=\"] + [pad_token, eos_token]\n",
        "        self.token_to_id = {v : k for k, v in enumerate(self.vocab)}\n",
        "        self.id_to_token = {k : v for k, v in enumerate(self.vocab)}\n",
        "        self.ntokens = len(self.vocab)\n",
        "        self.pattern = f\"[^{re.escape(''.join(self.vocab))}]\"\n",
        "\n",
        "    def clean(self, text):\n",
        "        \"\"\"\n",
        "        removes all characters not in the vocabulary\n",
        "        \"\"\"\n",
        "        out = re.sub(self.pattern, \"\", text)\n",
        "        return out\n",
        "\n",
        "    def pre_tokenization(self, text):\n",
        "        \"\"\"\n",
        "        character-level\n",
        "        \"\"\"\n",
        "        return [c for c in text]\n",
        "\n",
        "    def encode(self, text):\n",
        "        text_list = self.pre_tokenization(self.clean(text))\n",
        "        return [self.token_to_id[c] for c in text_list]\n",
        "\n",
        "    def decode(self, token_list):\n",
        "        return \"\".join([self.id_to_token[x] for x in token_list])\n",
        "    \n",
        "tokenizer = character_level_tokenizer()\n",
        "ntokens = tokenizer.ntokens\n",
        "ntokens"
      ]
    },
    {
      "cell_type": "code",
      "execution_count": 5,
      "id": "8FXW2K-1Jd-P",
      "metadata": {
        "colab": {
          "base_uri": "https://localhost:8080/"
        },
        "id": "8FXW2K-1Jd-P",
        "outputId": "fff6c129-8820-4b3c-8caa-b43710370098"
      },
      "outputs": [
        {
          "data": {
            "text/plain": [
              "([1, 2, 10, 4, 2, 11], '12+42=')"
            ]
          },
          "execution_count": 5,
          "metadata": {},
          "output_type": "execute_result"
        }
      ],
      "source": [
        "prompt = \"12 + 42 =\"\n",
        "inputs = tokenizer.encode(prompt)\n",
        "inputs, tokenizer.decode(inputs)"
      ]
    },
    {
      "cell_type": "markdown",
      "id": "491af297",
      "metadata": {
        "id": "491af297"
      },
      "source": [
        "## Step 2: Create a dataset for arithmetic operations"
      ]
    },
    {
      "cell_type": "code",
      "execution_count": 6,
      "id": "daa90f31",
      "metadata": {
        "colab": {
          "base_uri": "https://localhost:8080/"
        },
        "id": "daa90f31",
        "outputId": "c23f0b74-6948-43a9-9e6f-5846f4b325b4"
      },
      "outputs": [
        {
          "data": {
            "text/plain": [
              "('399+425=', '824')"
            ]
          },
          "execution_count": 6,
          "metadata": {},
          "output_type": "execute_result"
        }
      ],
      "source": [
        "def sample_datapoint(num_digits = 3):\n",
        "    a_list = [random.randint(0, 9) for _ in range(num_digits)]\n",
        "    b_list = [random.randint(0, 9) for _ in range(num_digits)]\n",
        "    a_int = int(\"\".join([str(x) for x in a_list]))\n",
        "    b_int = int(\"\".join([str(x) for x in b_list]))\n",
        "    a_str = \"\".join([str(x) for x in a_list])\n",
        "    b_str = \"\".join([str(x) for x in b_list])\n",
        "    sum_int = a_int + b_int\n",
        "    return (a_str + \"+\" + b_str + \"=\", str(sum_int))\n",
        "\n",
        "sample_datapoint(3)"
      ]
    },
    {
      "cell_type": "code",
      "execution_count": 7,
      "id": "b6e861d2",
      "metadata": {
        "colab": {
          "base_uri": "https://localhost:8080/"
        },
        "id": "b6e861d2",
        "outputId": "7b639165-7809-4f2d-a067-f21547c293b1"
      },
      "outputs": [
        {
          "data": {
            "text/plain": [
              "[('487+575=', '1062'),\n",
              " ('276+106=', '382'),\n",
              " ('189+310=', '499'),\n",
              " ('368+547=', '915')]"
            ]
          },
          "execution_count": 7,
          "metadata": {},
          "output_type": "execute_result"
        }
      ],
      "source": [
        "data = []\n",
        "for _ in range(dataset_size):\n",
        "    data.append(sample_datapoint(num_digits))\n",
        "data[:4]"
      ]
    },
    {
      "cell_type": "code",
      "execution_count": 8,
      "id": "fee85050",
      "metadata": {
        "colab": {
          "base_uri": "https://localhost:8080/"
        },
        "id": "fee85050",
        "outputId": "69def39c-084c-4074-f296-908925038748"
      },
      "outputs": [
        {
          "data": {
            "text/plain": [
              "(57600, 6400)"
            ]
          },
          "execution_count": 8,
          "metadata": {},
          "output_type": "execute_result"
        }
      ],
      "source": [
        "data_train = data[: int(train_proportion * dataset_size)]\n",
        "data_test = data[int(train_proportion * dataset_size):]\n",
        "\n",
        "len(data_train),len(data_test)"
      ]
    },
    {
      "cell_type": "markdown",
      "id": "37200598",
      "metadata": {
        "id": "37200598"
      },
      "source": [
        "## Step 3: Construct a model"
      ]
    },
    {
      "cell_type": "code",
      "execution_count": 9,
      "id": "91674239",
      "metadata": {
        "id": "91674239"
      },
      "outputs": [],
      "source": [
        "class PositionalEncoding(nn.Module):\n",
        "    r\"\"\"Inject some information about the relative or absolute position of the tokens in the sequence.\n",
        "        The positional encodings have the same dimension as the embeddings, so that the two can be summed.\n",
        "        Here, we use sine and cosine functions of different frequencies.\n",
        "    .. math:\n",
        "        \\text{PosEncoder}(pos, 2i) = sin(pos/10000^(2i/d_model))\n",
        "        \\text{PosEncoder}(pos, 2i+1) = cos(pos/10000^(2i/d_model))\n",
        "        \\text{where pos is the word position and i is the embed idx)\n",
        "    Args:\n",
        "        d_model: the embed dim (required).\n",
        "        dropout: the dropout value (default=0.1).\n",
        "        max_len: the max. length of the incoming sequence (default=5000).\n",
        "    \"\"\"\n",
        "\n",
        "    def __init__(self, d_model, dropout=0.1, max_len=5000):\n",
        "        super(PositionalEncoding, self).__init__()\n",
        "        self.dropout = nn.Dropout(p=dropout)\n",
        "\n",
        "        pe = torch.zeros(max_len, d_model)\n",
        "        position = torch.arange(0, max_len, dtype=torch.float).unsqueeze(1)\n",
        "        div_term = torch.exp(torch.arange(0, d_model, 2).float() * (-math.log(10000.0) / d_model))\n",
        "        pe[:, 0::2] = torch.sin(position * div_term)\n",
        "        pe[:, 1::2] = torch.cos(position * div_term)\n",
        "        pe = pe.unsqueeze(0).transpose(0, 1)\n",
        "        self.register_buffer('pe', pe)\n",
        "\n",
        "    def forward(self, x):\n",
        "        r\"\"\"Inputs of forward function\n",
        "        Args:\n",
        "            x: the sequence fed to the positional encoder model (required).\n",
        "        Shape:\n",
        "            x: [sequence length, batch size, embed dim]\n",
        "            output: [sequence length, batch size, embed dim]\n",
        "        \"\"\"\n",
        "\n",
        "        x = x + self.pe[:x.size(0), :]\n",
        "        return self.dropout(x)"
      ]
    },
    {
      "cell_type": "code",
      "execution_count": 10,
      "id": "4eb278ab",
      "metadata": {
        "id": "4eb278ab"
      },
      "outputs": [],
      "source": [
        "class TransformerModel(nn.Transformer):\n",
        "    def __init__(self, ntoken, ninp, nhead, nhid, nlayers, dropout=0.5):\n",
        "        super(TransformerModel, self).__init__(d_model=ninp,\n",
        "                                               nhead=nhead,\n",
        "                                               dim_feedforward=nhid,\n",
        "                                               num_encoder_layers=nlayers)\n",
        "        self.input_emb = nn.Embedding(ntoken, ninp)\n",
        "        self.pos_encoder = PositionalEncoding(ninp, dropout)\n",
        "        self.decoder = nn.Linear(ninp, ntoken) # projection sur le vocabulaire\n",
        "\n",
        "        self.ninp = ninp\n",
        "        self.init_weights()\n",
        "\n",
        "    def init_weights(self):\n",
        "        initrange = 0.1\n",
        "        nn.init.uniform_(self.input_emb.weight, -initrange, initrange)\n",
        "        nn.init.zeros_(self.decoder.bias)\n",
        "        nn.init.uniform_(self.decoder.weight, -initrange, initrange)\n",
        "\n",
        "    def _generate_square_subsequent_mask(self, sz):\n",
        "        return torch.log(torch.tril(torch.ones(sz,sz))) # masque de l'attention\n",
        "\n",
        "    def forward(self, src):\n",
        "        # S = sequence lenght = len(src), B = batch size, E = embedding dimension = ninp, V = vocab size = ntoken\n",
        "        # src: (S, B)\n",
        "        mask = self._generate_square_subsequent_mask(len(src)).to(device)\n",
        "        self.src_mask = mask # (S, S)\n",
        "\n",
        "        src = self.input_emb(src) * math.sqrt(self.ninp) # (S, B, E)\n",
        "        src = self.pos_encoder(src)  # (S, B, E)\n",
        "        output_enc = self.encoder(src, mask=self.src_mask) # (S, B, E) couches MultiHeadSelfAttention() pytorch\n",
        "        output_dec = self.decoder(output_enc) # (S, B, V)\n",
        "        return F.log_softmax(output_dec, dim=-1), output_enc # (S, B, V)"
      ]
    },
    {
      "cell_type": "code",
      "execution_count": 11,
      "id": "1d568cc4",
      "metadata": {
        "colab": {
          "base_uri": "https://localhost:8080/"
        },
        "id": "1d568cc4",
        "outputId": "7677a7ea-d06a-46a8-85f3-44274cc008a5"
      },
      "outputs": [
        {
          "name": "stderr",
          "output_type": "stream",
          "text": [
            "c:\\Users\\soelm\\Documents\\04_Code\\MVA\\MVA_venv\\Lib\\site-packages\\torch\\nn\\modules\\transformer.py:385: UserWarning: enable_nested_tensor is True, but self.use_nested_tensor is False because encoder_layer.self_attn.batch_first was not True(use batch_first for better inference performance)\n",
            "  warnings.warn(\n"
          ]
        },
        {
          "data": {
            "text/plain": [
              "TransformerModel(\n",
              "  (encoder): TransformerEncoder(\n",
              "    (layers): ModuleList(\n",
              "      (0-7): 8 x TransformerEncoderLayer(\n",
              "        (self_attn): MultiheadAttention(\n",
              "          (out_proj): NonDynamicallyQuantizableLinear(in_features=128, out_features=128, bias=True)\n",
              "        )\n",
              "        (linear1): Linear(in_features=128, out_features=64, bias=True)\n",
              "        (dropout): Dropout(p=0.1, inplace=False)\n",
              "        (linear2): Linear(in_features=64, out_features=128, bias=True)\n",
              "        (norm1): LayerNorm((128,), eps=1e-05, elementwise_affine=True)\n",
              "        (norm2): LayerNorm((128,), eps=1e-05, elementwise_affine=True)\n",
              "        (dropout1): Dropout(p=0.1, inplace=False)\n",
              "        (dropout2): Dropout(p=0.1, inplace=False)\n",
              "      )\n",
              "    )\n",
              "    (norm): LayerNorm((128,), eps=1e-05, elementwise_affine=True)\n",
              "  )\n",
              "  (decoder): Linear(in_features=128, out_features=14, bias=True)\n",
              "  (input_emb): Embedding(14, 128)\n",
              "  (pos_encoder): PositionalEncoding(\n",
              "    (dropout): Dropout(p=0.5, inplace=False)\n",
              "  )\n",
              ")"
            ]
          },
          "execution_count": 11,
          "metadata": {},
          "output_type": "execute_result"
        }
      ],
      "source": [
        "model = TransformerModel(ntoken = ntokens,\n",
        "                         ninp = 128,\n",
        "                         nhead = 16,\n",
        "                         nhid = 64,\n",
        "                         nlayers = 8)\n",
        "model.to(device)"
      ]
    },
    {
      "cell_type": "code",
      "execution_count": 12,
      "id": "a6PmJSo95N4C",
      "metadata": {
        "colab": {
          "base_uri": "https://localhost:8080/"
        },
        "id": "a6PmJSo95N4C",
        "outputId": "f0177342-43b6-46c6-b079-aab40db326d1"
      },
      "outputs": [
        {
          "name": "stdout",
          "output_type": "stream",
          "text": [
            "number of parameters: 668942\n"
          ]
        }
      ],
      "source": [
        "print(\"number of parameters: {}\".format(sum([x.numel() for x in model.parameters()])))"
      ]
    },
    {
      "cell_type": "markdown",
      "id": "2e35d113",
      "metadata": {
        "id": "2e35d113"
      },
      "source": [
        "### Useful functions"
      ]
    },
    {
      "cell_type": "code",
      "execution_count": 13,
      "id": "8f2f06e0",
      "metadata": {
        "id": "8f2f06e0"
      },
      "outputs": [],
      "source": [
        "def generate(model, prompts, new_tokens = 5, mode = \"greedy\", num_samples = 1, temperature = 0.8):\n",
        "    input_tensor = torch.repeat_interleave(prompts, repeats = num_samples, dim = 1).to(device) # (S, B*G) G= num generations per prompt\n",
        "    # (prompt_length, batch_size * num_samples)\n",
        "    for _ in range(new_tokens):\n",
        "        output, _ = model(input_tensor) # (prompt_length, batch_size * num_samples, ntokens)\n",
        "        logits = output[-1,:,:] # dernier token (batch_size * num_samples, ntokens)\n",
        "        if mode == \"greedy\":\n",
        "            tokens = torch.argmax(logits, -1).view((1,-1)) # (1, batch_size * num_samples)\n",
        "        else: # mode == \"sampling\"\n",
        "            logits /= temperature\n",
        "            probs = torch.softmax(logits, dim=-1)\n",
        "            tokens = torch.multinomial(probs, num_samples = 1).view((1,-1)) # (1, batch_size * num_samples)\n",
        "        input_tensor = torch.cat((input_tensor, tokens), 0)\n",
        "    return input_tensor"
      ]
    },
    {
      "cell_type": "code",
      "execution_count": 14,
      "id": "d76d1b19",
      "metadata": {
        "colab": {
          "base_uri": "https://localhost:8080/"
        },
        "id": "d76d1b19",
        "outputId": "7c084e50-8269-4f24-859a-4f95f8bd143d"
      },
      "outputs": [
        {
          "data": {
            "text/plain": [
              "(tensor([[ 2, 10,  3, 11, 13, 13, 13, 13, 13]]),\n",
              " '2+3=[EOS][EOS][EOS][EOS][EOS]')"
            ]
          },
          "execution_count": 14,
          "metadata": {},
          "output_type": "execute_result"
        }
      ],
      "source": [
        "model.eval()\n",
        "\n",
        "prompt = \"2+3=\"\n",
        "prompt_tensor = torch.tensor(tokenizer.encode(prompt)).view((-1,1))\n",
        "output = generate(model, prompt_tensor).view((1,-1))\n",
        "output, tokenizer.decode(output[0].tolist())"
      ]
    },
    {
      "cell_type": "code",
      "execution_count": 15,
      "id": "f61a9bec",
      "metadata": {},
      "outputs": [
        {
          "data": {
            "text/plain": [
              "{'0': 0,\n",
              " '1': 1,\n",
              " '2': 2,\n",
              " '3': 3,\n",
              " '4': 4,\n",
              " '5': 5,\n",
              " '6': 6,\n",
              " '7': 7,\n",
              " '8': 8,\n",
              " '9': 9,\n",
              " '+': 10,\n",
              " '=': 11,\n",
              " '[PAD]': 12,\n",
              " '[EOS]': 13}"
            ]
          },
          "execution_count": 15,
          "metadata": {},
          "output_type": "execute_result"
        }
      ],
      "source": [
        "tokenizer.token_to_id"
      ]
    },
    {
      "cell_type": "code",
      "execution_count": 16,
      "id": "00954ddc",
      "metadata": {
        "id": "00954ddc"
      },
      "outputs": [],
      "source": [
        "def pad(token_list, type_list = \"prompts\"):\n",
        "    max_length = max([len(x) for x in token_list]) # taille commune des sequences\n",
        "    out = []\n",
        "    for x in token_list:\n",
        "        if type_list == \"prompts\":\n",
        "            out.append([tokenizer.token_to_id[pad_token]] * (max_length - len(x)) + x) # padding à gauche\n",
        "        if type_list == \"answers\":\n",
        "            out.append(x + [tokenizer.token_to_id[eos_token]] + [tokenizer.token_to_id[pad_token]] * (max_length - len(x))) # padding à droite\n",
        "    return out, max_length"
      ]
    },
    {
      "cell_type": "code",
      "execution_count": 17,
      "id": "2c84beab",
      "metadata": {
        "colab": {
          "base_uri": "https://localhost:8080/"
        },
        "id": "2c84beab",
        "outputId": "3e53a680-31e1-4cd6-8ce0-d96009def972"
      },
      "outputs": [
        {
          "data": {
            "text/plain": [
              "(['[PAD][PAD]1+1=', '21+35='], ['2[EOS][PAD]', '56[EOS]'])"
            ]
          },
          "execution_count": 17,
          "metadata": {},
          "output_type": "execute_result"
        }
      ],
      "source": [
        "prompts = [tokenizer.encode(\"1+1=\"), tokenizer.encode(\"21+35=\")]\n",
        "answers = [tokenizer.encode(\"2\"), tokenizer.encode(\"56\")]\n",
        "padded_prompts, _ = pad(prompts, \"prompts\")\n",
        "padded_answers, _ = pad(answers, \"answers\")\n",
        "padded_prompts, padded_answers\n",
        "[tokenizer.decode(p) for p in padded_prompts], [tokenizer.decode(p) for p in padded_answers]"
      ]
    },
    {
      "cell_type": "code",
      "execution_count": 18,
      "id": "264f9227",
      "metadata": {
        "id": "264f9227"
      },
      "outputs": [],
      "source": [
        "def get_batch(split, i, batch_size):\n",
        "    data = data_train if split == 'train' else data_test\n",
        "\n",
        "    prompts = [data[i][0] for i in range(i, i + batch_size)]\n",
        "    encoded_prompts = [tokenizer.encode(prompt) for prompt in prompts]\n",
        "    padded_prompts, prompt_length = pad(encoded_prompts, \"prompts\")\n",
        "\n",
        "    answers = [data[i][1] for i in range(i, i + batch_size)]\n",
        "    encoded_answers = [tokenizer.encode(answer) for answer in answers]\n",
        "    padded_answers, answers_length = pad(encoded_answers, \"answers\")\n",
        "\n",
        "    X = torch.stack([torch.tensor(x) for x in padded_prompts], 1)\n",
        "    Y = torch.stack([torch.tensor(x) for x in padded_answers], 1)\n",
        "    return X, Y, prompt_length, answers_length, prompts, answers"
      ]
    },
    {
      "cell_type": "code",
      "execution_count": 19,
      "id": "91e281ad",
      "metadata": {
        "colab": {
          "base_uri": "https://localhost:8080/"
        },
        "id": "91e281ad",
        "outputId": "2a97779d-08e9-485a-9588-07e699dc6b77"
      },
      "outputs": [
        {
          "data": {
            "text/plain": [
              "(torch.Size([8, 16]), torch.Size([5, 16]), 8, 4, '491+750=', '1241')"
            ]
          },
          "execution_count": 19,
          "metadata": {},
          "output_type": "execute_result"
        }
      ],
      "source": [
        "X, Y, prompt_length, answers_length, prompts, answers = get_batch(\"train\", 43, 16)\n",
        "X.shape, Y.shape, prompt_length, answers_length, prompts[0], answers[0]"
      ]
    },
    {
      "cell_type": "markdown",
      "id": "113e1fd1",
      "metadata": {
        "id": "113e1fd1"
      },
      "source": [
        "## Step 4: Evaluate"
      ]
    },
    {
      "cell_type": "code",
      "execution_count": 20,
      "id": "KfmcSdPwp3K6",
      "metadata": {
        "id": "KfmcSdPwp3K6"
      },
      "outputs": [],
      "source": [
        "batch_size = 16"
      ]
    },
    {
      "cell_type": "code",
      "execution_count": 21,
      "id": "1cfcd10a",
      "metadata": {
        "id": "1cfcd10a"
      },
      "outputs": [],
      "source": [
        "def evaluate(batch_size = batch_size):\n",
        "    # Turn on evaluation mode disables dropout.\n",
        "    model.eval()\n",
        "    correct = 0.\n",
        "    with torch.no_grad():\n",
        "        for batch, i in enumerate(range(0, len(data_test) - 1, batch_size)):\n",
        "            prompts, target_answers, prompt_length, answers_length, _, _ = get_batch(\"test\", i, batch_size)\n",
        "            prompts = prompts.to(device) # (prompt_length, batch_size) (P, B)\n",
        "            target_answers = target_answers.to(device) # (answers_length + 1, batch_size) (A, B)\n",
        "            output = generate(model, prompts, answers_length + 1) # (prompt_length + answers_length + 1, batch_size) (P+A, B)\n",
        "            answers_tokens = output[prompt_length:, :] # (answers_length + 1, batch_size), contains tokens (A, B)\n",
        "            equality_test = answers_tokens == target_answers # (answers_length + 1, batch_size), contains boolean values\n",
        "            correct += torch.all(equality_test, axis=0).float().sum()\n",
        "        accuracy = correct / len(data_test)\n",
        "    return accuracy.item()"
      ]
    },
    {
      "cell_type": "code",
      "execution_count": 22,
      "id": "ac335b05",
      "metadata": {
        "colab": {
          "base_uri": "https://localhost:8080/"
        },
        "id": "ac335b05",
        "outputId": "1355d497-45f0-440a-90b8-30a7f2818091"
      },
      "outputs": [
        {
          "data": {
            "text/plain": [
              "0.0"
            ]
          },
          "execution_count": 22,
          "metadata": {},
          "output_type": "execute_result"
        }
      ],
      "source": [
        "evaluate()"
      ]
    },
    {
      "cell_type": "markdown",
      "id": "4c54061a",
      "metadata": {
        "id": "4c54061a"
      },
      "source": [
        "## Step 5: Train the model, classical approach"
      ]
    },
    {
      "cell_type": "markdown",
      "id": "b827e567",
      "metadata": {
        "id": "b827e567"
      },
      "source": [
        "### Hyperparameters"
      ]
    },
    {
      "cell_type": "code",
      "execution_count": 23,
      "id": "5b140ba3",
      "metadata": {
        "id": "5b140ba3"
      },
      "outputs": [],
      "source": [
        "epochs = 5\n",
        "batch_size = 16\n",
        "learning_rate = 8e-4\n",
        "\n",
        "reporting_per_epoch = 5\n",
        "log_interval = len(data_train) // (reporting_per_epoch + 1)\n",
        "assert(log_interval % batch_size == 0)"
      ]
    },
    {
      "cell_type": "code",
      "execution_count": 24,
      "id": "3638a75d",
      "metadata": {
        "id": "3638a75d"
      },
      "outputs": [],
      "source": [
        "def train():\n",
        "    model.train()\n",
        "    optimizer = torch.optim.AdamW(model.parameters(), lr=learning_rate)\n",
        "\n",
        "    best_test_accuracy = None\n",
        "    test_accuracy = evaluate()\n",
        "    print('-' * 89)\n",
        "    print('| initialisation | test accuracy {:5.2f}'.format(test_accuracy))\n",
        "    print('-' * 89)\n",
        "    for epoch in range(1, epochs+1):\n",
        "        epoch_start_time = time.time()\n",
        "        total_loss = 0.\n",
        "        start_time = time.time()\n",
        "        for batch, i in enumerate(range(0, len(data_train) - 1, batch_size)):\n",
        "            prompts, target_answers, prompt_length, answers_length, _, _ = get_batch(\"train\", i, batch_size)\n",
        "            prompts = prompts.to(device) # (prompt_length, batch_size) (P, B)\n",
        "            target_answers = target_answers.to(device) # (answers_length + 1, batch_size) (A, B)\n",
        "            input_tensor = torch.cat((prompts, target_answers), 0) # (prompt_length + answers_length + 1, batch_size) (P+A, B)\n",
        "            model.zero_grad()\n",
        "            output, _ = model(input_tensor) # (prompt_length + answers_length + 1, batch_size, ntokens) # (P+A, B, V) probabilité sur le vocabulaire pour chaque token\n",
        "            output_answers = output[prompt_length-1:-1,:,:].reshape(-1, ntokens) # ((answers_length + 1) * batch_size, ntokens) # (A*B, V) prob sur le vocab de la réponse\n",
        "            target_answers = target_answers.view(-1) # (A*B)\n",
        "            loss = F.cross_entropy(output_answers, target_answers)\n",
        "            loss.backward()\n",
        "            optimizer.step()\n",
        "\n",
        "            total_loss += loss.item()\n",
        "\n",
        "            if i % log_interval == 0 and batch > 0:\n",
        "                cur_loss = total_loss / log_interval\n",
        "                elapsed = time.time() - start_time\n",
        "                print('| {:5d}/{:5d} batches | ms/batch {:5.2f} | loss {:5.2f} | perplexity {:8.2f}'.format(batch, len(data_train) // batch_size,\n",
        "                                                                                                            elapsed * 1000 / log_interval, cur_loss, math.exp(cur_loss)))\n",
        "                total_loss = 0\n",
        "                start_time = time.time()\n",
        "        test_accuracy = evaluate()\n",
        "        print('-' * 89)\n",
        "        print('| end of epoch {:3d} | time: {:5.2f}s | test accuracy {:5.2f}'.format(epoch, (time.time() - epoch_start_time), test_accuracy))\n",
        "        print('-' * 89)\n",
        "        # Save the model if the test accuracy is the best we've seen so far.\n",
        "        if not best_test_accuracy or test_accuracy < best_test_accuracy:\n",
        "            with open(\"arithmetic.pt\", 'wb') as f:\n",
        "                torch.save(model, f)\n",
        "            best_test_accuracy = test_accuracy"
      ]
    },
    {
      "cell_type": "code",
      "execution_count": 25,
      "id": "4e2a8490",
      "metadata": {
        "colab": {
          "base_uri": "https://localhost:8080/"
        },
        "id": "4e2a8490",
        "outputId": "492562cc-d243-4314-ab56-d17d41c070ad"
      },
      "outputs": [
        {
          "name": "stdout",
          "output_type": "stream",
          "text": [
            "-----------------------------------------------------------------------------------------\n",
            "| initialisation | test accuracy  0.00\n",
            "-----------------------------------------------------------------------------------------\n",
            "|   600/ 3600 batches | ms/batch  2.41 | loss  0.09 | perplexity     1.09\n",
            "|  1200/ 3600 batches | ms/batch  2.40 | loss  0.07 | perplexity     1.07\n",
            "|  1800/ 3600 batches | ms/batch  2.40 | loss  0.07 | perplexity     1.07\n",
            "|  2400/ 3600 batches | ms/batch  2.41 | loss  0.07 | perplexity     1.07\n",
            "|  3000/ 3600 batches | ms/batch  2.41 | loss  0.07 | perplexity     1.07\n",
            "-----------------------------------------------------------------------------------------\n",
            "| end of epoch   1 | time: 154.66s | test accuracy  0.01\n",
            "-----------------------------------------------------------------------------------------\n",
            "|   600/ 3600 batches | ms/batch  2.45 | loss  0.06 | perplexity     1.07\n",
            "|  1200/ 3600 batches | ms/batch  2.39 | loss  0.06 | perplexity     1.06\n",
            "|  1800/ 3600 batches | ms/batch  2.43 | loss  0.07 | perplexity     1.07\n",
            "|  2400/ 3600 batches | ms/batch  2.41 | loss  0.06 | perplexity     1.06\n",
            "|  3000/ 3600 batches | ms/batch  2.44 | loss  0.05 | perplexity     1.05\n",
            "-----------------------------------------------------------------------------------------\n",
            "| end of epoch   2 | time: 155.70s | test accuracy  0.06\n",
            "-----------------------------------------------------------------------------------------\n",
            "|   600/ 3600 batches | ms/batch  2.41 | loss  0.04 | perplexity     1.04\n",
            "|  1200/ 3600 batches | ms/batch  2.44 | loss  0.04 | perplexity     1.04\n",
            "|  1800/ 3600 batches | ms/batch  2.41 | loss  0.04 | perplexity     1.04\n",
            "|  2400/ 3600 batches | ms/batch  2.42 | loss  0.04 | perplexity     1.04\n",
            "|  3000/ 3600 batches | ms/batch  2.41 | loss  0.04 | perplexity     1.04\n",
            "-----------------------------------------------------------------------------------------\n",
            "| end of epoch   3 | time: 155.26s | test accuracy  0.09\n",
            "-----------------------------------------------------------------------------------------\n",
            "|   600/ 3600 batches | ms/batch  2.40 | loss  0.03 | perplexity     1.03\n",
            "|  1200/ 3600 batches | ms/batch  2.42 | loss  0.03 | perplexity     1.03\n",
            "|  1800/ 3600 batches | ms/batch 28.39 | loss  0.03 | perplexity     1.04\n",
            "|  2400/ 3600 batches | ms/batch  2.35 | loss  0.03 | perplexity     1.03\n",
            "|  3000/ 3600 batches | ms/batch  2.45 | loss  0.04 | perplexity     1.04\n",
            "-----------------------------------------------------------------------------------------\n",
            "| end of epoch   4 | time: 405.03s | test accuracy  0.09\n",
            "-----------------------------------------------------------------------------------------\n",
            "|   600/ 3600 batches | ms/batch  2.44 | loss  0.03 | perplexity     1.03\n",
            "|  1200/ 3600 batches | ms/batch  2.55 | loss  0.03 | perplexity     1.03\n",
            "|  1800/ 3600 batches | ms/batch  2.46 | loss  0.02 | perplexity     1.02\n",
            "|  2400/ 3600 batches | ms/batch  2.50 | loss  0.03 | perplexity     1.03\n",
            "|  3000/ 3600 batches | ms/batch  2.62 | loss  0.03 | perplexity     1.03\n",
            "-----------------------------------------------------------------------------------------\n",
            "| end of epoch   5 | time: 164.27s | test accuracy  0.33\n",
            "-----------------------------------------------------------------------------------------\n"
          ]
        }
      ],
      "source": [
        "train()"
      ]
    },
    {
      "cell_type": "code",
      "execution_count": 26,
      "id": "56d9d440",
      "metadata": {
        "colab": {
          "base_uri": "https://localhost:8080/"
        },
        "id": "56d9d440",
        "outputId": "b876390d-4396-4a95-e600-e2230317dbec"
      },
      "outputs": [
        {
          "name": "stdout",
          "output_type": "stream",
          "text": [
            "103+569=673[EOS]\t actual result: 672\n",
            "936+720=171[EOS][EOS]\t actual result: 1656\n",
            "236+737=973[EOS]\t actual result: 973\n",
            "273+702=975[EOS]\t actual result: 975\n",
            "427+818=1235[EOS]\t actual result: 1245\n",
            "712+297=910[EOS][PAD]\t actual result: 1009\n",
            "882+786=1700[EOS]\t actual result: 1668\n",
            "293+935=1221[EOS]\t actual result: 1228\n",
            "085+664=740[EOS]\t actual result: 749\n",
            "280+634=91[EOS][PAD]\t actual result: 914\n",
            "327+455=782[EOS]\t actual result: 782\n",
            "394+426=812[EOS]\t actual result: 820\n",
            "163+969=1132[EOS]\t actual result: 1132\n",
            "226+418=644[EOS]\t actual result: 644\n",
            "501+680=1181[EOS]\t actual result: 1181\n",
            "600+206=801[EOS]\t actual result: 806\n",
            "419+797=1216[EOS]\t actual result: 1216\n",
            "124+965=1099[EOS]\t actual result: 1089\n",
            "227+422=649[EOS]\t actual result: 649\n",
            "302+153=456[EOS]\t actual result: 455\n"
          ]
        }
      ],
      "source": [
        "model.eval()\n",
        "\n",
        "for i in range(20):\n",
        "    prompt, answers = data_test[i]\n",
        "    prompt_tensor = torch.tensor(tokenizer.encode(prompt)).view((-1,1))\n",
        "    output = generate(model, prompt_tensor, len(answers) + 1).view((1,-1))\n",
        "    print(tokenizer.decode(output.tolist()[0]) + \"\\t actual result: \" + answers)"
      ]
    },
    {
      "cell_type": "markdown",
      "id": "cfa4c591",
      "metadata": {
        "id": "cfa4c591"
      },
      "source": [
        "## Step 4 bis: Coding DeepSeek GRPO"
      ]
    },
    {
      "cell_type": "markdown",
      "id": "aff83f72",
      "metadata": {
        "id": "aff83f72"
      },
      "source": [
        "### Custom reward functions"
      ]
    },
    {
      "cell_type": "code",
      "execution_count": 27,
      "id": "3c548bf7",
      "metadata": {
        "colab": {
          "base_uri": "https://localhost:8080/"
        },
        "id": "3c548bf7",
        "outputId": "b5d45345-22eb-445a-b888-6ad22e96d7b7"
      },
      "outputs": [
        {
          "data": {
            "text/plain": [
              "(1.0, 0.0)"
            ]
          },
          "execution_count": 27,
          "metadata": {},
          "output_type": "execute_result"
        }
      ],
      "source": [
        "def accuracy_reward(output, answer):\n",
        "    # 1 si output=answer\n",
        "    pattern = r\"\\[EOS\\]\"\n",
        "    output = re.sub(pattern, \"\", output)\n",
        "    pattern = r\"(\\[PAD\\])*$\"\n",
        "    output = re.sub(pattern, \"\", output)\n",
        "    return 1. if output == answer else 0.\n",
        "\n",
        "accuracy_reward(\"123[EOS][PAD][PAD]\", \"123\"), accuracy_reward(\"123\", \"124\"),"
      ]
    },
    {
      "cell_type": "code",
      "execution_count": 28,
      "id": "e1f02762",
      "metadata": {
        "colab": {
          "base_uri": "https://localhost:8080/"
        },
        "id": "e1f02762",
        "outputId": "7271bdf4-4ecf-44ee-ec86-8c815ffaa9a5",
        "scrolled": true
      },
      "outputs": [
        {
          "data": {
            "text/plain": [
              "(0.0, 0.008064516129032258)"
            ]
          },
          "execution_count": 28,
          "metadata": {},
          "output_type": "execute_result"
        }
      ],
      "source": [
        "def distance_accuracy_reward(output, answer):\n",
        "    # ecart relatif entre output et answer\n",
        "    pattern = r\"\\[EOS\\]\"\n",
        "    output = re.sub(pattern, \"\", output)\n",
        "    pattern = r\"(\\[PAD\\])*$\"\n",
        "    output = re.sub(pattern, \"\", output)\n",
        "    int_output = int(output)\n",
        "    int_answer = int(answer)\n",
        "    return abs(int_output - int_answer) / max(int_output, int_answer)\n",
        "\n",
        "distance_accuracy_reward(\"123[EOS]\", \"123\"), distance_accuracy_reward(\"123[PAD]\", \"124\"),"
      ]
    },
    {
      "cell_type": "code",
      "execution_count": 29,
      "id": "b42a0d70",
      "metadata": {
        "colab": {
          "base_uri": "https://localhost:8080/"
        },
        "id": "b42a0d70",
        "outputId": "a79ca9d6-a79b-4640-c172-4db78e433256"
      },
      "outputs": [
        {
          "data": {
            "text/plain": [
              "(1.0, 1.0)"
            ]
          },
          "execution_count": 29,
          "metadata": {},
          "output_type": "execute_result"
        }
      ],
      "source": [
        "def digit_accuracy_reward(output, answer):\n",
        "    # ecart relatif entre les digits\n",
        "    pattern = r\"\\[EOS\\]\"\n",
        "    output = re.sub(pattern, \"\", output)\n",
        "    pattern = r\"(\\[PAD\\])*$\"\n",
        "    output = re.sub(pattern, \"\", output)\n",
        "    return sum(c1 == c2 for (c1,c2) in zip(output, answer)) / max(len(output), len(answer))\n",
        "\n",
        "digit_accuracy_reward(\"123[EOS][PAD][PAD]\", \"123\"), digit_accuracy_reward(\"123[EOS]\", \"123\"),"
      ]
    },
    {
      "cell_type": "code",
      "execution_count": 30,
      "id": "a41603b2",
      "metadata": {
        "colab": {
          "base_uri": "https://localhost:8080/"
        },
        "id": "a41603b2",
        "outputId": "33dbf431-4177-4ae3-d36c-08ff8a2261fc"
      },
      "outputs": [
        {
          "data": {
            "text/plain": [
              "(1.0, 1.0, 0.0)"
            ]
          },
          "execution_count": 30,
          "metadata": {},
          "output_type": "execute_result"
        }
      ],
      "source": [
        "def reward_format(output):\n",
        "    # 1 si format avec EOS\n",
        "    pattern = r\"\\d+\\[EOS\\](\\[PAD\\])*$\"\n",
        "    return 1. if bool(re.match(pattern, output)) else 0.\n",
        "\n",
        "reward_format(\"123[EOS][PAD][PAD]\"), reward_format(\"123[EOS]\"), reward_format(\"123\"),"
      ]
    },
    {
      "cell_type": "markdown",
      "id": "4482e411",
      "metadata": {
        "id": "4482e411"
      },
      "source": [
        "### Hyperparameters"
      ]
    },
    {
      "cell_type": "code",
      "execution_count": 31,
      "id": "cf764cb0",
      "metadata": {
        "id": "cf764cb0"
      },
      "outputs": [],
      "source": [
        "epochs = 20\n",
        "batch_size = 16 # B\n",
        "learning_rate = 1e-4\n",
        "num_samples = 16 # G\n",
        "temperature = .8\n",
        "\n",
        "reporting_per_epoch = 5\n",
        "log_interval = len(data_train) // (reporting_per_epoch + 1)\n",
        "assert(log_interval % batch_size == 0)\n",
        "\n",
        "reward_fun = digit_accuracy_reward\n",
        "reward_format = reward_format"
      ]
    },
    {
      "cell_type": "code",
      "execution_count": 32,
      "id": "f15cdced",
      "metadata": {
        "id": "f15cdced"
      },
      "outputs": [],
      "source": [
        "def compute_rewards(text_outputs, answers):\n",
        "    # reward pondérée\n",
        "    repeated_answers = [answer for answer in answers for _ in range(num_samples)]\n",
        "    rewards = torch.tensor(\n",
        "        [0.2 * reward_format(output) + 0.8 * reward_fun(output, answer)\n",
        "         for output, answer in zip(text_outputs, repeated_answers)],\n",
        "        dtype=torch.float32,\n",
        "        device=device\n",
        "    )\n",
        "    return rewards # (B*G)"
      ]
    },
    {
      "cell_type": "markdown",
      "id": "0b5ce8be",
      "metadata": {},
      "source": [
        "### Coding our actual GRPO trainer"
      ]
    },
    {
      "cell_type": "code",
      "execution_count": 1,
      "id": "309d015c",
      "metadata": {},
      "outputs": [
        {
          "data": {
            "text/html": [
              "<img src=\"data:image/png;base64,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\" width=\"400px\">"
            ],
            "text/plain": [
              "<IPython.core.display.HTML object>"
            ]
          },
          "execution_count": 1,
          "metadata": {},
          "output_type": "execute_result"
        }
      ],
      "source": [
        "import base64\n",
        "from IPython.display import HTML\n",
        "\n",
        "def embed_image(filename):\n",
        "    with open(filename, \"rb\") as f:\n",
        "        data = base64.b64encode(f.read()).decode(\"utf-8\")\n",
        "    return HTML(f'<img src=\"data:image/png;base64,{data}\" width=\"400px\">')\n",
        "\n",
        "embed_image(\"GRPO.png\")\n"
      ]
    },
    {
      "cell_type": "code",
      "execution_count": null,
      "id": "3c40a38a",
      "metadata": {},
      "outputs": [],
      "source": [
        "class GRPOTrainer:\n",
        "    \"\"\"\n",
        "    Entraîne un modèle en utilisant la méthode GRPO introduite dans l'article : DeepSeekMath: Pushing the Limits of Mathematical Reasoning in Open Language Models\n",
        "    \"\"\"\n",
        "    def __init__(self, model, \n",
        "                 ref_model=None, \n",
        "                 learning_rate=1e-3, \n",
        "                 epochs = 3,\n",
        "                 batch_size = 16,\n",
        "                 num_samples = 5,\n",
        "                 temperature = 0.8,\n",
        "                 num_iterations = 2,\n",
        "                 eps=0.2,\n",
        "                 beta=0.4):\n",
        "        \"\"\" \n",
        "        Initialise les hyper-paramètres d'entraînement.\n",
        "        \"\"\"\n",
        "        self.model = model\n",
        "        self.ref_model = ref_model\n",
        "        self.learning_rate = learning_rate\n",
        "        self.optimizer = torch.optim.AdamW(self.model.parameters(), lr=self.learning_rate)\n",
        "        self.epochs = epochs\n",
        "        self.batch_size = batch_size # B\n",
        "        self.num_samples = num_samples # G\n",
        "        self.temperature = temperature\n",
        "        self.num_iterations = num_iterations\n",
        "        self.eps = eps # clipping parameter\n",
        "        self.beta = beta# KL parameter\n",
        "\n",
        "    def config(self):\n",
        "        print(\"-\"*89)\n",
        "        print(\"| training hyper-parameters \")\n",
        "        print(\"-\"*89)\n",
        "        print(f\"num_epochs: {self.epochs}, batch_size: {self.batch_size}, batch_per_epochs: {(len(data_train) - 1)//self.batch_size}\")\n",
        "        print(f\"num_samples: {self.num_samples}, num_iterations: {self.num_iterations}\")\n",
        "        print(f\"eps: {self.eps}, beta: {self.beta}\")\n",
        "        print(\"-\"*89)\n",
        "\n",
        "    def _calculate_grpo_advantages(self, rewards):\n",
        "        \"\"\" \n",
        "        Calcule les avantages de chaque réponse générée grâce à leur rewards.\n",
        "        Args:\n",
        "            rewards: rewards pré-calculées(B*G) \n",
        "        Returns: \n",
        "            advantages (B*G)\n",
        "        \"\"\"\n",
        "        mean_rewards = rewards.view(-1, self.num_samples).mean(dim=1) # (B,)\n",
        "        std_rewards = rewards.view(-1, self.num_samples).std(dim=1) # (B,)\n",
        "        mean_rewards = mean_rewards.repeat_interleave(self.num_samples, dim=0) # (B*G,)\n",
        "        std_rewards = std_rewards.repeat_interleave(self.num_samples, dim=0) # (B*G,)\n",
        "        advantages = (rewards - mean_rewards) / (std_rewards + 1e-5) # (B*G,)\n",
        "        return advantages\n",
        "    \n",
        "    def _compute_log_probs(self, model, outputs, prompt_length):\n",
        "        \"\"\" \n",
        "        Calcule les log-probabilités (sur tout le vocabulaire) des tokens des réponses.\n",
        "        Args:\n",
        "            model: modèle à utiliser pour le calcul des probabilités des tokens\n",
        "            outputs: (P+A, B*G) séquence générée\n",
        "            promt_length: int longeur paddée des prompts du batch\n",
        "        \"\"\"\n",
        "        log_probs, _ = model(outputs) #(P+A, B*G, V)\n",
        "        log_probs = log_probs[prompt_length-1:-1, :, :] #(A, B*G, V)\n",
        "\n",
        "        # log_softmax est déjà présent dans forward() donc pas besoin de l'appliquer à nouveau\n",
        "        #log_probs = F.log_softmax(logits, dim=-1) #(A, B*G, V) convert raw logits into log probabilities along the vocabulary axis\n",
        "        return log_probs #(A, B*G, V)\n",
        "\n",
        "    def _compute_loss_deepseek(self, advantages, responses, answers_length, log_probs, log_probs_old, log_probs_ref):\n",
        "        \"\"\" \n",
        "        Calcule la loss GRPO (DeepSeek) d'un batch, en utilisant les politiques du modèle, de model_ref et model_old.\n",
        "        Args:\n",
        "            advantages: (B*G) avantage de chaque séquence générée\n",
        "            responses: (A, B*G) token générés par le modèle old pour chaque séquence générée\n",
        "            answers_length: int longueur des réponses générées (complétée par du padding)\n",
        "            log_probs: (A, B*G, V) log-probabilités des tokens du vocabulaire, pour chaque étape de la génération par le modèle (mis à jour plusieurs fois par batch)\n",
        "            log_probs_old: (A, B*G, V) même chose pour le modèle old (mis à jour une fois par batch)\n",
        "            log_probs_ref: (A, B*G, V) même chose pour le modèle de réference (mis à jour une fois par époque)\n",
        "\n",
        "        \"\"\"\n",
        "        A, B, G = answers_length+1, self.batch_size, self.num_samples # dimensions\n",
        "\n",
        "        responses = responses.unsqueeze(-1) # (A, B*G) -> (A, B*G, 1) pour gathering\n",
        "\n",
        "        # Récupère et reformatte les log-probs des tokens générés par le modèle (A, B*G, V) -> (B, G, A)\n",
        "        selected_log_probs = log_probs.gather(dim=-1, index=responses) # selectionne uniquement les probabilités des tokens générés\n",
        "        selected_log_probs = selected_log_probs.squeeze(-1) # (A, B*G)\n",
        "        selected_log_probs = selected_log_probs.view(A, B, G).permute(1, 2, 0) # (A, B*G) -> (B, G, A)\n",
        "\n",
        "        # Récupère et reformatte les log-probs des tokens générés par le model_old (A, B*G, V) -> (B, G, A)\n",
        "        selected_log_probs_old = log_probs_old.gather(dim=-1, index=responses)\n",
        "        selected_log_probs_old = selected_log_probs_old.squeeze(-1) # (A, B*G)\n",
        "        selected_log_probs_old = selected_log_probs_old.view(A, B, G).permute(1, 2, 0) # (B, G, A) \n",
        "\n",
        "        # Récupère et reformatte les log-probs des tokens générés par le model_ref (A, B*G, V) -> (B, G, A)\n",
        "        selected_log_probs_ref = log_probs_ref.gather(dim=-1, index=responses)\n",
        "        selected_log_probs_ref = selected_log_probs_ref.squeeze(-1) # (A, B*G)\n",
        "        selected_log_probs_ref = selected_log_probs_ref.view(A, B, G).permute(1, 2, 0) # (B, G, A) \n",
        "\n",
        "        # Extension des avantages pour avoir le même format que les politiques\n",
        "        advantages = advantages.view(B, G) # (B*G)  -> (B, G)\n",
        "        advantages = advantages.unsqueeze(-1).expand(-1, -1, A) # (B, G) -> (B, G, A) \n",
        "\n",
        "        # Calcul des ratios de politiques entre model et model_old sur les token générés\n",
        "        ratios_old = torch.exp(selected_log_probs - selected_log_probs_old) # (B, G, A) rapport des probabilités sur les tokens générés entre model et model_old\n",
        "        clipped_ratios = torch.clamp(ratios_old, 1 - self.eps, 1 + self.eps) # (B, G, A) clipped ratio\n",
        "\n",
        "        weighted_advantages_1 = ratios_old * advantages # (B, G, A)\n",
        "        weighted_advantages_2 = clipped_ratios * advantages # (B, G, A)\n",
        "\n",
        "        # Calcule la KL divergence entre la politique du modèle et celle de model_ref\n",
        "        KL = torch.exp(selected_log_probs_ref - selected_log_probs) - (selected_log_probs_ref - selected_log_probs) -1 # (B, G, A) Estimateur différentiable\n",
        "        \n",
        "        loss_tensor = torch.minimum(weighted_advantages_1, weighted_advantages_2) - self.beta*KL # (B, G, A)\n",
        "        \n",
        "        # Masque les probs des tokens à partir de EOS pour ne pas fausser le calcul de la loss\n",
        "        responses = responses.squeeze(-1).view(A, B, G).permute(1, 2, 0) # (A, B*G, 1) -> (B, G, A)\n",
        "        eos_positions = (responses == 13).int().argmax(dim=2) # (B, G) identifie l'index de EOS dans chaque génération\n",
        "        position_indices = torch.arange(A).expand_as(responses) # (B, G, A)        \n",
        "        mask_padding = position_indices < eos_positions.unsqueeze(-1)  # (B, G, A) masque les tokens à partir de EOS\n",
        "\n",
        "        masked_loss = loss_tensor * mask_padding # (B, G, A) \n",
        "        valid_lengths = mask_padding.sum(dim=2) # (B, G) longeur de chaque génération\n",
        "\n",
        "        loss_per_generation = masked_loss.sum(dim=2) / (valid_lengths + 1e-5) # (B, G)\n",
        "        loss_per_group = loss_per_generation.mean(dim=1) # (B)\n",
        "        loss = - loss_per_group.sum() \n",
        "\n",
        "        return loss\n",
        "\n",
        "    def _train_step(self, prompts, prompt_length, answers_length, answers):\n",
        "        \"\"\"\n",
        "            Effectue plusieurs pas de gradient sur un même batch.\n",
        "            Args:\n",
        "                prompts: prompts du  batch (B)\n",
        "                prompt_length: int, longueur paddée des prompts du batch P\n",
        "                answer_length: int, longueur paddée des réponses du batch A-1\n",
        "                answers: réponses isssues du dataset\n",
        "            Returns:\n",
        "                loss: loss de la dernière itération\n",
        "        \"\"\"\n",
        "        self.model.train()\n",
        "\n",
        "        # Génère num_samples réponses pour chaque prompt\n",
        "        outputs = generate(self.model,\n",
        "                            prompts,\n",
        "                            new_tokens = answers_length + 1,\n",
        "                            mode = \"sampling\",\n",
        "                            num_samples = self.num_samples,\n",
        "                            temperature = temperature) # (P+A, B*G)\n",
        "        \n",
        "        responses = outputs[prompt_length:, :] # (A, B*G)\n",
        "\n",
        "        text_outputs = [tokenizer.decode(outputs[prompt_length:, i].tolist())\n",
        "                        for i in range(outputs.size(1))]\n",
        "\n",
        "        self.model.eval()\n",
        "        self.model_ref.eval()\n",
        "        with torch.inference_mode(): # Calcul de log_probs_old log_probs_ref sans backpropagation\n",
        "            log_probs_old = self._compute_log_probs(self.model, outputs, prompt_length) # (A, B*G, V)\n",
        "            log_probs_ref = self._compute_log_probs(self.model_ref, outputs, prompt_length) # (A, B*G, V)\n",
        "\n",
        "        # Calcule les avantages\n",
        "        rewards = compute_rewards(text_outputs, answers) # (B*G)\n",
        "        advantages = self._calculate_grpo_advantages(rewards) # (B*G)\n",
        "\n",
        "        for i in range(self.num_iterations): \n",
        "\n",
        "            self.optimizer.zero_grad()  \n",
        "\n",
        "            # Calcule de la loss avec les log_probs avec du modèle à jour\n",
        "            log_probs = self._compute_log_probs(self.model, outputs, prompt_length) # (A, B*G, V)\n",
        "            loss = self._compute_loss_deepseek(advantages, responses, answers_length, log_probs, log_probs_old, log_probs_ref)\n",
        "\n",
        "            loss.backward()\n",
        "            self.optimizer.step()\n",
        "\n",
        "        return loss.item()\n",
        "    \n",
        "    def train(self, data_train):\n",
        "        \"\"\" \n",
        "        Entraîne le modèle sur tout le dataset d'entraînement\n",
        "            Args:\n",
        "                data_train: dataset d'entraînement\n",
        "        \"\"\"\n",
        "\n",
        "        self.config()\n",
        "\n",
        "        best_test_accuracy = None\n",
        "        test_accuracy = evaluate()\n",
        "        print('-' * 89)\n",
        "        print('| initialisation | test accuracy {:5.2f}'.format(test_accuracy))\n",
        "        print('-' * 89)\n",
        "\n",
        "        # switch eval for train model (enables dropout)\n",
        "        self.model_ref = copy.deepcopy(model)\n",
        "        epochs = self.epochs\n",
        "\n",
        "        for epoch in range(1, epochs+1):\n",
        "            epoch_start_time = time.time()\n",
        "\n",
        "            total_loss=0\n",
        "            for batch, i in enumerate(range(0, len(data_train) - 1, self.batch_size)):\n",
        "\n",
        "                # get a batch of prompts and answers\n",
        "                prompts, _, prompt_length, answers_length, _, answers = get_batch(\"train\", i, self.batch_size)\n",
        "                prompts = prompts.to(device) # (prompt_length, batch_size)\n",
        "\n",
        "                # perform train_step\n",
        "                loss = self._train_step(prompts, prompt_length, answers_length, answers)\n",
        "                total_loss += loss\n",
        "                if batch%10 ==0:    \n",
        "                    print(f\"Batch {batch} loss : {loss}\")\n",
        "            \n",
        "            # Update ref_model\n",
        "            self.model_ref = copy.deepcopy(model)\n",
        "\n",
        "            avg_loss = total_loss / len(data_train)\n",
        "            print(f\"Epoch {epoch+1}/{epochs} - Loss: {avg_loss:.4f}\")            \n",
        "\n",
        "            test_accuracy = evaluate()\n",
        "            print('-' * 89)\n",
        "            print('| end of epoch {:3d} | time: {:5.2f}s | test accuracy {:5.2f}'.format(epoch, (time.time() - epoch_start_time), test_accuracy))\n",
        "            print('-' * 89)\n"
      ]
    },
    {
      "cell_type": "code",
      "execution_count": null,
      "id": "ffffd489",
      "metadata": {},
      "outputs": [
        {
          "name": "stdout",
          "output_type": "stream",
          "text": [
            "-----------------------------------------------------------------------------------------\n",
            "| training hyper-parameters \n",
            "-----------------------------------------------------------------------------------------\n",
            "num_epochs: 3, batch_size: 16, batch_per_epochs: 3599\n",
            "num_samples: 10, num_iterations: 2\n",
            "eps: 0.2, beta: 0.4\n",
            "-----------------------------------------------------------------------------------------\n",
            "-----------------------------------------------------------------------------------------\n",
            "| initialisation | test accuracy  0.33\n",
            "-----------------------------------------------------------------------------------------\n",
            "Batch 0 loss : 383.66845703125\n",
            "Batch 10 loss : 4.35777473449707\n",
            "Batch 20 loss : 4.328964710235596\n",
            "Batch 30 loss : 4.015648365020752\n",
            "Batch 40 loss : 0.5023490190505981\n",
            "Batch 50 loss : 6.314966678619385\n",
            "Batch 60 loss : 4.686737537384033\n",
            "Batch 70 loss : 1.6669038534164429\n",
            "Batch 80 loss : 0.15876276791095734\n",
            "Batch 90 loss : 1.3763408660888672\n",
            "Batch 100 loss : 0.09982376545667648\n",
            "Batch 110 loss : 0.05856597423553467\n",
            "Batch 120 loss : 0.11770162731409073\n"
          ]
        }
      ],
      "source": [
        "Trainer =  GRPOTrainer(model, \n",
        "                 ref_model=None, \n",
        "                 learning_rate=1e-3, \n",
        "                 epochs = 3,\n",
        "                 batch_size = 16,\n",
        "                 num_samples = 10,\n",
        "                 temperature = 0.8,\n",
        "                 num_iterations = 2,\n",
        "                 eps=0.2,\n",
        "                 beta=0.4)\n",
        "\n",
        "Trainer.train(data_train)"
      ]
    },
    {
      "cell_type": "code",
      "execution_count": 1,
      "id": "aeVn935w5BSp",
      "metadata": {
        "colab": {
          "base_uri": "https://localhost:8080/"
        },
        "id": "aeVn935w5BSp",
        "outputId": "2014648b-68e6-4af6-ce9c-b28a3d580c7e"
      },
      "outputs": [
        {
          "ename": "NameError",
          "evalue": "name 'model' is not defined",
          "output_type": "error",
          "traceback": [
            "\u001b[1;31m---------------------------------------------------------------------------\u001b[0m",
            "\u001b[1;31mNameError\u001b[0m                                 Traceback (most recent call last)",
            "Cell \u001b[1;32mIn[1], line 1\u001b[0m\n\u001b[1;32m----> 1\u001b[0m \u001b[43mmodel\u001b[49m\u001b[38;5;241m.\u001b[39meval()\n\u001b[0;32m      3\u001b[0m \u001b[38;5;28;01mfor\u001b[39;00m i \u001b[38;5;129;01min\u001b[39;00m \u001b[38;5;28mrange\u001b[39m(\u001b[38;5;241m20\u001b[39m):\n\u001b[0;32m      4\u001b[0m     prompt, answers \u001b[38;5;241m=\u001b[39m data_test[i]\n",
            "\u001b[1;31mNameError\u001b[0m: name 'model' is not defined"
          ]
        }
      ],
      "source": [
        "model.eval()\n",
        "\n",
        "for i in range(20):\n",
        "    prompt, answers = data_test[i]\n",
        "    prompt_tensor = torch.tensor(tokenizer.encode(prompt)).view((-1,1))\n",
        "    output = generate(model, prompt_tensor, len(answers) + 1).view((1,-1))\n",
        "    print(tokenizer.decode(output.tolist()[0]) + \"\\t actual result: \" + answers)"
      ]
    }
  ],
  "metadata": {
    "accelerator": "GPU",
    "colab": {
      "gpuType": "T4",
      "provenance": []
    },
    "kernelspec": {
      "display_name": "MVA_venv",
      "language": "python",
      "name": "python3"
    },
    "language_info": {
      "codemirror_mode": {
        "name": "ipython",
        "version": 3
      },
      "file_extension": ".py",
      "mimetype": "text/x-python",
      "name": "python",
      "nbconvert_exporter": "python",
      "pygments_lexer": "ipython3",
      "version": "3.12.6"
    }
  },
  "nbformat": 4,
  "nbformat_minor": 5
}
